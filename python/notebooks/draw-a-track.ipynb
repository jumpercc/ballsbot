{
 "cells": [
  {
   "cell_type": "code",
   "execution_count": null,
   "metadata": {},
   "outputs": [],
   "source": [
    "import json\n",
    "from IPython.display import clear_output, HTML, display\n",
    "import ipywidgets.widgets as widgets\n",
    "\n",
    "import sys\n",
    "sys.path.append('/home/ballsbot/projects/ballsbot/python/lib')\n",
    "\n",
    "import ballsbot.config as config\n",
    "config.ENABLE_MULTIPROCESSING = False"
   ]
  },
  {
   "cell_type": "code",
   "execution_count": null,
   "metadata": {},
   "outputs": [],
   "source": [
    "import ballsbot.drawing as drawing\n",
    "from ballsbot.lidar import calibration_to_xywh\n",
    "from ballsbot.drawing import BotPoseAbsCoordsDrawing\n",
    "from ballsbot.utils import keep_rps\n",
    "from ballsbot.lidar import revert_transformation_to_cloud, apply_transformation_to_cloud\n",
    "from ballsbot.dashboard import Dashboard"
   ]
  },
  {
   "cell_type": "code",
   "execution_count": null,
   "metadata": {},
   "outputs": [],
   "source": [
    "only_nearby_meters = 4"
   ]
  },
  {
   "cell_type": "code",
   "execution_count": null,
   "metadata": {},
   "outputs": [],
   "source": [
    "new_format = True\n",
    "with open('track_2024-08-20.json') as hf:\n",
    "    if new_format:\n",
    "        track = []\n",
    "        for line in hf:\n",
    "            try:\n",
    "                frame = json.loads(line)\n",
    "                track.append(frame)\n",
    "            except Exception as e:\n",
    "                print(f'broken frame {e}')\n",
    "    else:\n",
    "        track = json.loads(hf.read())"
   ]
  },
  {
   "cell_type": "code",
   "execution_count": null,
   "metadata": {},
   "outputs": [],
   "source": [
    "calibration = {\n",
    "    'angle_fix': 3.0810609316737434,  # lidar orientation (radians)\n",
    "    'fl_x': 0.2041686441507201,  # front left corner coords\n",
    "    'fl_y': 0.10426277741236079,\n",
    "    'rr_x': -0.08011094659163859,  # rear right corner coords\n",
    "    'rr_y': -0.0988675829003773,\n",
    "}\n",
    "self_position = calibration_to_xywh(calibration)\n",
    "\n",
    "\n",
    "dashboard = Dashboard(widgets, image_size=1000)\n",
    "\n",
    "augmented_painter = BotPoseAbsCoordsDrawing(dashboard, 'augmented')\n",
    "dashboard.add_subplot('augmented', augmented_painter.get_drawing_func_name())\n",
    "\n",
    "display(dashboard.get_image())"
   ]
  },
  {
   "cell_type": "code",
   "execution_count": null,
   "metadata": {
    "scrolled": true
   },
   "outputs": [],
   "source": [
    "# poses = []\n",
    "# additional_points = []\n",
    "# ts = None\n",
    "# for frame_index, track_frame in enumerate(track):\n",
    "#     if not track_frame['tracker']['current_pose']:\n",
    "#         continue\n",
    "#     ts = keep_rps(ts, fps=1)\n",
    "#     poses.append(track_frame['tracker']['current_pose'])\n",
    "\n",
    "#     if track_frame['lidar']['augmented_points']:\n",
    "#         points = apply_transformation_to_cloud(\n",
    "#             track_frame['lidar']['augmented_points'],\n",
    "#             [track_frame['tracker']['current_pose'][v] for v in ('x', 'y', 'teta')]\n",
    "#         )\n",
    "#         additional_points += [x for i, x in enumerate(points) if i % 20 == 0]\n",
    "#         augmented_painter.update_image(\n",
    "#             poses,\n",
    "#             points,\n",
    "#             self_position,\n",
    "#             only_nearby_meters=only_nearby_meters,\n",
    "#             additional_points=additional_points,\n",
    "#         )\n",
    "        \n",
    "#         dashboard.redraw()\n",
    "\n",
    "#     clear_output(wait=True)\n",
    "#     print(frame_index)"
   ]
  },
  {
   "cell_type": "code",
   "execution_count": null,
   "metadata": {},
   "outputs": [],
   "source": [
    "from python_pcl_ndt import python_pcl_ndt"
   ]
  },
  {
   "cell_type": "code",
   "execution_count": null,
   "metadata": {},
   "outputs": [],
   "source": [
    "poses = []\n",
    "additional_points = []\n",
    "ts = None\n",
    "for frame_index, track_frame in enumerate(track):\n",
    "    if not track_frame['tracker']['current_pose']:\n",
    "        continue\n",
    "    ts = keep_rps(ts, fps=1)\n",
    "\n",
    "    if track_frame['lidar']['augmented_points']:\n",
    "        result = python_pcl_ndt.align_clouds(\n",
    "            track_frame['tracker']['current_pose'],\n",
    "            track_frame['lidar']['augmented_points'],\n",
    "            False\n",
    "        )\n",
    "        poses.append({\n",
    "            'x': result['x'],\n",
    "            'y': result['y'],\n",
    "            'teta': result['teta'],\n",
    "        })\n",
    "\n",
    "        points = apply_transformation_to_cloud(\n",
    "            track_frame['lidar']['augmented_points'],\n",
    "            [poses[-1][v] for v in ('x', 'y', 'teta')]\n",
    "        )\n",
    "        additional_points += [x for i, x in enumerate(points) if i % 20 == 0]\n",
    "        augmented_painter.update_image(\n",
    "            poses,\n",
    "            points,\n",
    "            self_position,\n",
    "            only_nearby_meters=only_nearby_meters,\n",
    "            additional_points=additional_points,\n",
    "        )\n",
    "        \n",
    "        dashboard.redraw()\n",
    "    else:\n",
    "        poses.append(track_frame['tracker']['current_pose'])\n",
    "\n",
    "    clear_output(wait=True)\n",
    "    print(frame_index)"
   ]
  }
 ],
 "metadata": {
  "kernelspec": {
   "display_name": "Python 3",
   "language": "python",
   "name": "python3"
  },
  "language_info": {
   "codemirror_mode": {
    "name": "ipython",
    "version": 3
   },
   "file_extension": ".py",
   "mimetype": "text/x-python",
   "name": "python",
   "nbconvert_exporter": "python",
   "pygments_lexer": "ipython3",
   "version": "3.6.9"
  }
 },
 "nbformat": 4,
 "nbformat_minor": 4
}
