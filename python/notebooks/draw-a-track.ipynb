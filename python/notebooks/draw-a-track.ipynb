{
 "cells": [
  {
   "cell_type": "code",
   "execution_count": 1,
   "metadata": {},
   "outputs": [],
   "source": [
    "import json\n",
    "from IPython.display import clear_output, HTML, display\n",
    "import ipywidgets.widgets as widgets\n",
    "\n",
    "import sys\n",
    "sys.path.append('/home/ballsbot/projects/ballsbot/python/lib')\n",
    "\n",
    "import ballsbot.config as config\n",
    "config.ENABLE_MULTIPROCESSING = False"
   ]
  },
  {
   "cell_type": "code",
   "execution_count": 2,
   "metadata": {},
   "outputs": [],
   "source": [
    "import ballsbot.drawing as drawing\n",
    "from ballsbot.lidar import calibration_to_xywh\n",
    "from ballsbot.drawing import BotPoseAbsCoordsDrawing\n",
    "from ballsbot.utils import keep_rps\n",
    "from ballsbot.lidar import apply_transformation_to_cloud\n",
    "from ballsbot.dashboard import Dashboard"
   ]
  },
  {
   "cell_type": "code",
   "execution_count": 3,
   "metadata": {},
   "outputs": [],
   "source": [
    "only_nearby_meters = 4"
   ]
  },
  {
   "cell_type": "code",
   "execution_count": 4,
   "metadata": {},
   "outputs": [],
   "source": [
    "new_format = True\n",
    "with open('track_2024-08-20.json') as hf:\n",
    "    if new_format:\n",
    "        track = []\n",
    "        for line in hf:\n",
    "            try:\n",
    "                frame = json.loads(line)\n",
    "                track.append(frame)\n",
    "            except Exception as e:\n",
    "                print(f'broken frame {e}')\n",
    "    else:\n",
    "        track = json.loads(hf.read())"
   ]
  },
  {
   "cell_type": "code",
   "execution_count": 5,
   "metadata": {},
   "outputs": [
    {
     "data": {
      "application/vnd.jupyter.widget-view+json": {
       "model_id": "3e725bf025aa45e59d4a889fd6599458",
       "version_major": 2,
       "version_minor": 0
      },
      "text/plain": [
       "Image(value=b'', format='jpeg', height='1200', width='1200')"
      ]
     },
     "metadata": {},
     "output_type": "display_data"
    }
   ],
   "source": [
    "calibration = {\n",
    "    'angle_fix': 3.0810609316737434,  # lidar orientation (radians)\n",
    "    'fl_x': 0.2041686441507201,  # front left corner coords\n",
    "    'fl_y': 0.10426277741236079,\n",
    "    'rr_x': -0.08011094659163859,  # rear right corner coords\n",
    "    'rr_y': -0.0988675829003773,\n",
    "}\n",
    "self_position = calibration_to_xywh(calibration)\n",
    "\n",
    "\n",
    "dashboard = Dashboard(widgets, image_size=1200)\n",
    "\n",
    "raw_painter = BotPoseAbsCoordsDrawing(dashboard, 'raw')\n",
    "dashboard.add_subplot('raw', raw_painter.get_drawing_func_name())\n",
    "\n",
    "aligned_painter = BotPoseAbsCoordsDrawing(dashboard, 'aligned')\n",
    "dashboard.add_subplot('aligned', aligned_painter.get_drawing_func_name())\n",
    "\n",
    "display(dashboard.get_image())"
   ]
  },
  {
   "cell_type": "code",
   "execution_count": 6,
   "metadata": {},
   "outputs": [],
   "source": [
    "from python_pcl_ndt import python_pcl_ndt"
   ]
  },
  {
   "cell_type": "code",
   "execution_count": 7,
   "metadata": {},
   "outputs": [
    {
     "name": "stdout",
     "output_type": "stream",
     "text": [
      "1\n",
      "2\n",
      "3\n",
      "4\n",
      "5\n",
      "6\n",
      "7\n",
      "8\n",
      "9\n",
      "10\n"
     ]
    }
   ],
   "source": [
    "raw_poses = []\n",
    "raw_additional_points = []\n",
    "aligned_poses = []\n",
    "aligned_additional_points = []\n",
    "ts = None\n",
    "for frame_index, track_frame in enumerate(track):\n",
    "    if frame_index == 11:\n",
    "        break\n",
    "    if not track_frame['tracker']['current_pose']:\n",
    "        continue\n",
    "    ts = keep_rps(ts, fps=0.25)\n",
    "    print(frame_index)\n",
    "    raw_poses.append(track_frame['tracker']['current_pose'])\n",
    "\n",
    "    if track_frame['lidar']['augmented_points']:\n",
    "        raw_points = apply_transformation_to_cloud(\n",
    "            track_frame['lidar']['augmented_points'],\n",
    "            [track_frame['tracker']['current_pose'][v] for v in ('x', 'y', 'teta')]\n",
    "        )\n",
    "        raw_additional_points += [x for i, x in enumerate(raw_points) if i % 10 == 0]\n",
    "        raw_painter.update_image(\n",
    "            raw_poses,\n",
    "            raw_points,\n",
    "            self_position,\n",
    "            only_nearby_meters=only_nearby_meters,\n",
    "            additional_points=raw_additional_points,\n",
    "        )\n",
    "        \n",
    "        result = python_pcl_ndt.align_clouds(\n",
    "            track_frame['tracker']['current_pose'],\n",
    "            track_frame['lidar']['augmented_points'],\n",
    "            True  # fast\n",
    "        )\n",
    "        aligned_poses.append({\n",
    "            'x': result['x'],\n",
    "            'y': result['y'],\n",
    "            'teta': result['teta'],\n",
    "        })\n",
    "        aligned_points = apply_transformation_to_cloud(\n",
    "            track_frame['lidar']['augmented_points'],\n",
    "            [aligned_poses[-1][v] for v in ('x', 'y', 'teta')]\n",
    "        )\n",
    "        aligned_additional_points += [x for i, x in enumerate(aligned_points) if i % 10 == 0]\n",
    "        aligned_painter.update_image(\n",
    "            aligned_poses,\n",
    "            aligned_points,\n",
    "            self_position,\n",
    "            only_nearby_meters=only_nearby_meters,\n",
    "            additional_points=aligned_additional_points,\n",
    "        )\n",
    "        \n",
    "        dashboard.redraw()\n",
    "    else:\n",
    "        aligned_poses.append(track_frame['tracker']['current_pose'])"
   ]
  }
 ],
 "metadata": {
  "kernelspec": {
   "display_name": "Python 3",
   "language": "python",
   "name": "python3"
  },
  "language_info": {
   "codemirror_mode": {
    "name": "ipython",
    "version": 3
   },
   "file_extension": ".py",
   "mimetype": "text/x-python",
   "name": "python",
   "nbconvert_exporter": "python",
   "pygments_lexer": "ipython3",
   "version": "3.6.9"
  }
 },
 "nbformat": 4,
 "nbformat_minor": 4
}
