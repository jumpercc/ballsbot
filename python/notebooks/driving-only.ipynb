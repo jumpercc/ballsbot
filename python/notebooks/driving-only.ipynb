{
 "cells": [
  {
   "cell_type": "code",
   "execution_count": null,
   "metadata": {},
   "outputs": [],
   "source": [
    "import ipywidgets.widgets as widgets\n",
    "from time import sleep\n",
    "import sys\n",
    "sys.path.append('/home/ballsbot/projects/ballsbot/python/lib')\n",
    "from ballsbot.servos import get_controls\n",
    "from ballsbot.utils import keep_rps, run_as_thread"
   ]
  },
  {
   "cell_type": "code",
   "execution_count": null,
   "metadata": {
    "scrolled": false
   },
   "outputs": [],
   "source": [
    "controller = widgets.Controller(index=0)  # http://html5gamepad.com\n",
    "display(controller)"
   ]
  },
  {
   "cell_type": "code",
   "execution_count": null,
   "metadata": {},
   "outputs": [],
   "source": [
    "car_controls = get_controls()\n",
    "\n",
    "def update_steering(value):\n",
    "    car_controls['steering'].run(value['new'])\n",
    "\n",
    "def update_throttle(value):\n",
    "    car_controls['throttle'].run(-value['new'])\n",
    "\n",
    "def link_controls():\n",
    "    ts = None\n",
    "    while True:\n",
    "        ts = keep_rps(ts, fps=1)\n",
    "\n",
    "        if len(controller.axes):\n",
    "            controller.axes[0].observe(update_steering, 'value')\n",
    "            controller.axes[1].observe(update_throttle, 'value')\n",
    "            break\n",
    "\n",
    "run_as_thread(link_controls)"
   ]
  },
  {
   "cell_type": "code",
   "execution_count": null,
   "metadata": {},
   "outputs": [],
   "source": [
    "# def map_range(x, X_min, X_max, Y_min, Y_max):\n",
    "#     '''\n",
    "#     Linear mapping between two ranges of values\n",
    "#     '''\n",
    "#     X_range = X_max - X_min\n",
    "#     Y_range = Y_max - Y_min\n",
    "#     XY_ratio = X_range / Y_range\n",
    "\n",
    "#     y = ((x - X_min) / XY_ratio + Y_min) // 1\n",
    "\n",
    "#     return int(y)\n",
    "\n",
    "# map_range(controller.axes[1].value, -1, 1, 324, 424)"
   ]
  }
 ],
 "metadata": {
  "kernelspec": {
   "display_name": "Python 3",
   "language": "python",
   "name": "python3"
  },
  "language_info": {
   "codemirror_mode": {
    "name": "ipython",
    "version": 3
   },
   "file_extension": ".py",
   "mimetype": "text/x-python",
   "name": "python",
   "nbconvert_exporter": "python",
   "pygments_lexer": "ipython3",
   "version": "3.6.9"
  }
 },
 "nbformat": 4,
 "nbformat_minor": 4
}
