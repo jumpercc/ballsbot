{
 "cells": [
  {
   "cell_type": "code",
   "execution_count": null,
   "metadata": {},
   "outputs": [],
   "source": [
    "import ipywidgets.widgets as widgets\n",
    "import sys\n",
    "sys.path.append('/home/ballsbot/projects/ballsbot/python/lib')\n",
    "# from ballsbot.camera import get_images_and_cameras\n",
    "from ballsbot.controller import link_controller\n",
    "from ballsbot.manipulator import Manipulator\n",
    "from ballsbot.joystick import JoystickWrapper\n",
    "from ballsbot.drawing import ManipulatorPoseDrawing\n",
    "from ballsbot.utils import run_as_thread, keep_rps\n",
    "from ballsbot.ros_messages import get_ros_messages\n",
    "from ballsbot.magnetic_encoders import MagneticEncoders"
   ]
  },
  {
   "cell_type": "code",
   "execution_count": null,
   "metadata": {},
   "outputs": [],
   "source": [
    "controller = widgets.Controller(index=0)  # http://html5gamepad.com\n",
    "display(controller)\n",
    "\n",
    "# images = []\n",
    "# for image, camera in get_images_and_cameras():\n",
    "#     images.append(image)\n",
    "# hbox = widgets.HBox(images)\n",
    "# display(hbox)\n",
    "\n",
    "painter = ManipulatorPoseDrawing(widgets)\n",
    "display(painter.get_images())"
   ]
  },
  {
   "cell_type": "code",
   "execution_count": null,
   "metadata": {},
   "outputs": [],
   "source": [
    "get_ros_messages().start(sync=False)\n",
    "joystick_wrapper = JoystickWrapper(controller)\n",
    "link_controller(joystick_wrapper)\n",
    "manipulator = Manipulator(joystick_wrapper)\n",
    "\n",
    "encoders = MagneticEncoders()\n",
    "encoders.start()"
   ]
  },
  {
   "cell_type": "code",
   "execution_count": null,
   "metadata": {},
   "outputs": [],
   "source": [
    "def update_images():\n",
    "    ts = None\n",
    "    while True:\n",
    "        ts = keep_rps(ts, fps=1)\n",
    "        pose = manipulator.get_manipulator_pose()\n",
    "        painter.update_images(pose, override_crop_half_size=700.)\n",
    "\n",
    "run_as_thread(update_images)"
   ]
  },
  {
   "cell_type": "code",
   "execution_count": null,
   "metadata": {},
   "outputs": [],
   "source": [
    "# from math import degrees\n",
    "# for k, v in encoders.get_angles().items():\n",
    "#     print(f'{k} {degrees(v[\"value\"])}')"
   ]
  },
  {
   "cell_type": "code",
   "execution_count": null,
   "metadata": {},
   "outputs": [],
   "source": [
    "# from ballsbot.config import MANIPULATOR\n",
    "\n",
    "# def map_range(x, x_min, x_max, y_min, y_max):\n",
    "#     \"\"\"\n",
    "#     Linear mapping between two ranges of values\n",
    "#     \"\"\"\n",
    "#     x_range = x_max - x_min\n",
    "#     y_range = y_max - y_min\n",
    "#     xy_ratio = x_range / y_range\n",
    "\n",
    "#     y = ((x - x_min) / xy_ratio + y_min) // 1\n",
    "\n",
    "#     return int(y)\n",
    "\n",
    "# servo_config = MANIPULATOR['servos'][2]\n",
    "# map_range(\n",
    "#     manipulator.get_servo_positions()[2],\n",
    "#     -1., 1.,\n",
    "#     servo_config['min_pulse'], servo_config['max_pulse']\n",
    "# )"
   ]
  },
  {
   "cell_type": "code",
   "execution_count": null,
   "metadata": {},
   "outputs": [],
   "source": [
    "# from ballsbot.utils import join_all_theads\n",
    "# join_all_theads()"
   ]
  }
 ],
 "metadata": {
  "kernelspec": {
   "display_name": "Python 3",
   "language": "python",
   "name": "python3"
  },
  "language_info": {
   "codemirror_mode": {
    "name": "ipython",
    "version": 3
   },
   "file_extension": ".py",
   "mimetype": "text/x-python",
   "name": "python",
   "nbconvert_exporter": "python",
   "pygments_lexer": "ipython3",
   "version": "3.6.9"
  }
 },
 "nbformat": 4,
 "nbformat_minor": 4
}
