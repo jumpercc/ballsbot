{
 "cells": [
  {
   "cell_type": "code",
   "execution_count": null,
   "metadata": {},
   "outputs": [],
   "source": [
    "import ipywidgets.widgets as widgets\n",
    "import sys\n",
    "from matplotlib.backends.backend_agg import FigureCanvasAgg as FigureCanvas\n",
    "from matplotlib.figure import Figure\n",
    "import matplotlib.patches as patches\n",
    "from matplotlib.transforms import Affine2D\n",
    "from io import BytesIO\n",
    "\n",
    "sys.path.append('/home/ballsbot/projects/ballsbot/python/lib')\n",
    "from ballsbot.utils import figsize_from_image_size, keep_rps, run_as_thread\n",
    "from ballsbot.ros_messages import get_ros_messages\n",
    "from ballsbot.detection import Detector"
   ]
  },
  {
   "cell_type": "code",
   "execution_count": null,
   "metadata": {},
   "outputs": [],
   "source": [
    "def show_detections(image, detections):\n",
    "    fig = Figure(figsize=figsize_from_image_size(image))\n",
    "    canvas = FigureCanvas(fig)\n",
    "    ax = fig.gca()\n",
    "\n",
    "    for det in detections:\n",
    "        x0 = det['bottom_left'][0]\n",
    "        w = det['top_right'][0] - det['bottom_left'][0]\n",
    "\n",
    "        y0 = det['bottom_left'][1]\n",
    "        h = det['top_right'][1] - det['bottom_left'][1]\n",
    "\n",
    "        rect = patches.Rectangle(\n",
    "            (x0, y0), w, h,\n",
    "            linewidth=2, edgecolor='r', facecolor='none'\n",
    "        )\n",
    "        ax.add_patch(rect)\n",
    "\n",
    "        ax.text(\n",
    "            x0, y0,\n",
    "            '{} ({:0.0f}%)'.format(det['object_class'], det['confidence'] * 100.),\n",
    "            fontsize=10, color='r'\n",
    "        )\n",
    "\n",
    "    ax.set_xlim(0., 1.)\n",
    "    ax.set_ylim(0., 1.)\n",
    "    ax.grid(which='both', linestyle='--', alpha=0.5)\n",
    "\n",
    "    canvas.draw()\n",
    "    jpeg = BytesIO()\n",
    "    canvas.print_jpg(jpeg)\n",
    "    image.value = jpeg.getvalue()"
   ]
  },
  {
   "cell_type": "code",
   "execution_count": null,
   "metadata": {},
   "outputs": [],
   "source": [
    "image = widgets.Image(format='jpeg', width=600, height=600)\n",
    "display(image)"
   ]
  },
  {
   "cell_type": "code",
   "execution_count": null,
   "metadata": {
    "tags": []
   },
   "outputs": [],
   "source": [
    "get_ros_messages().start(sync=False)\n",
    "\n",
    "detector = Detector()\n",
    "\n",
    "def detector_run():\n",
    "    detector.start()\n",
    "\n",
    "run_as_thread(detector_run)"
   ]
  },
  {
   "cell_type": "code",
   "execution_count": null,
   "metadata": {
    "tags": []
   },
   "outputs": [],
   "source": [
    "ts = None\n",
    "while True:\n",
    "    ts = keep_rps(ts, fps=2)\n",
    "    detector.get_seen_object()\n",
    "    objects_list = detector.objects_detected\n",
    "    if objects_list is None:\n",
    "        show_detections(image, [])\n",
    "    else:\n",
    "        show_detections(image, objects_list.copy())"
   ]
  }
 ],
 "metadata": {
  "kernelspec": {
   "display_name": "Python 3",
   "language": "python",
   "name": "python3"
  },
  "language_info": {
   "codemirror_mode": {
    "name": "ipython",
    "version": 3
   },
   "file_extension": ".py",
   "mimetype": "text/x-python",
   "name": "python",
   "nbconvert_exporter": "python",
   "pygments_lexer": "ipython3",
   "version": "3.6.9"
  }
 },
 "nbformat": 4,
 "nbformat_minor": 4
}
