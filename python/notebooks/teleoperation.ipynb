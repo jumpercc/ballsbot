{
 "cells": [
  {
   "cell_type": "code",
   "execution_count": null,
   "metadata": {},
   "outputs": [],
   "source": [
    "import ipywidgets.widgets as widgets\n",
    "from time import sleep\n",
    "import sys\n",
    "sys.path.append('/home/ballsbot/projects/ballsbot/python/lib')\n",
    "from ballsbot.camera import get_images_and_cameras\n",
    "from ballsbot.servos import get_controls\n",
    "from ballsbot.utils import keep_rps, run_as_thread\n",
    "from ballsbot.lidar import Lidar\n",
    "from ballsbot.session import start_rospy_session\n",
    "from ballsbot.manipulator import Manipulator\n",
    "from ballsbot.imu import IMU_Threaded\n",
    "from ballsbot.drawing import ManipulatorPoseDrawing"
   ]
  },
  {
   "cell_type": "code",
   "execution_count": null,
   "metadata": {},
   "outputs": [],
   "source": [
    "start_rospy_session('a_car')"
   ]
  },
  {
   "cell_type": "code",
   "execution_count": null,
   "metadata": {
    "scrolled": false
   },
   "outputs": [],
   "source": [
    "controller = widgets.Controller(index=0)  # http://html5gamepad.com\n",
    "display(controller)\n",
    "\n",
    "images = []\n",
    "for image, camera in get_images_and_cameras():\n",
    "    images.append(image)\n",
    "hbox = widgets.HBox(images)\n",
    "display(hbox)\n",
    "\n",
    "lidar_image = widgets.Image(format='jpeg', width=600, height=600)\n",
    "painter = ManipulatorPoseDrawing(widgets)\n",
    "display(widgets.HBox([\n",
    "    lidar_image,\n",
    "    widgets.VBox([painter.get_images(), widgets.Image(format='jpeg', width=400, height=200)])\n",
    "]))"
   ]
  },
  {
   "cell_type": "code",
   "execution_count": null,
   "metadata": {},
   "outputs": [],
   "source": [
    "manipulator = Manipulator(controller)"
   ]
  },
  {
   "cell_type": "code",
   "execution_count": null,
   "metadata": {},
   "outputs": [],
   "source": [
    "lidar = Lidar()\n",
    "\n",
    "# lidar.calibrate()\n",
    "# print(lidar.calibration)"
   ]
  },
  {
   "cell_type": "code",
   "execution_count": null,
   "metadata": {
    "scrolled": false
   },
   "outputs": [],
   "source": [
    "def lidar_run():\n",
    "    lidar.show_lidar_cloud(lidar_image)\n",
    "\n",
    "run_as_thread(lidar_run)"
   ]
  },
  {
   "cell_type": "code",
   "execution_count": null,
   "metadata": {},
   "outputs": [],
   "source": [
    "imu = IMU_Threaded()"
   ]
  },
  {
   "cell_type": "code",
   "execution_count": null,
   "metadata": {},
   "outputs": [],
   "source": [
    "car_controls = get_controls()\n",
    "\n",
    "def update_steering(value):\n",
    "    car_controls['steering'].run(value['new'])\n",
    "\n",
    "def update_throttle(value):\n",
    "    car_controls['throttle'].run(-value['new'])\n",
    "\n",
    "def link_controls():\n",
    "    ts = None\n",
    "    while True:\n",
    "        ts = keep_rps(ts, fps=1)\n",
    "\n",
    "        if len(controller.axes):\n",
    "            controller.axes[0].observe(update_steering, 'value')\n",
    "            controller.axes[1].observe(update_throttle, 'value')\n",
    "            break\n",
    "\n",
    "run_as_thread(link_controls)"
   ]
  },
  {
   "cell_type": "code",
   "execution_count": null,
   "metadata": {},
   "outputs": [],
   "source": [
    "def update_manipulator_images():\n",
    "    ts = None\n",
    "    while True:\n",
    "        ts = keep_rps(ts, fps=1)\n",
    "        pose = manipulator.get_manipulator_pose()\n",
    "        painter.update_images(pose, override_crop_half_size=550.)\n",
    "\n",
    "run_as_thread(update_manipulator_images)"
   ]
  },
  {
   "cell_type": "code",
   "execution_count": null,
   "metadata": {},
   "outputs": [],
   "source": [
    "# import json\n",
    "# json.dumps(lidar._get_lidar_points(8.))"
   ]
  },
  {
   "cell_type": "code",
   "execution_count": null,
   "metadata": {},
   "outputs": [],
   "source": [
    "# for cam in cameras:\n",
    "#     cam.stop()"
   ]
  },
  {
   "cell_type": "code",
   "execution_count": null,
   "metadata": {},
   "outputs": [],
   "source": [
    "# from ballsbot.utils import join_all_theads\n",
    "# join_all_theads()"
   ]
  }
 ],
 "metadata": {
  "kernelspec": {
   "display_name": "Python 3",
   "language": "python",
   "name": "python3"
  },
  "language_info": {
   "codemirror_mode": {
    "name": "ipython",
    "version": 3
   },
   "file_extension": ".py",
   "mimetype": "text/x-python",
   "name": "python",
   "nbconvert_exporter": "python",
   "pygments_lexer": "ipython3",
   "version": "3.6.9"
  }
 },
 "nbformat": 4,
 "nbformat_minor": 4
}
