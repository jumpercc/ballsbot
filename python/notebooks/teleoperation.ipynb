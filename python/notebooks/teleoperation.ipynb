{
 "cells": [
  {
   "cell_type": "code",
   "execution_count": null,
   "metadata": {},
   "outputs": [],
   "source": [
    "import ipywidgets.widgets as widgets\n",
    "from time import sleep\n",
    "import sys\n",
    "sys.path.append('/home/ballsbot/projects/ballsbot/python/lib')\n",
    "from ballsbot.camera import get_images_and_cameras\n",
    "from ballsbot.controller import link_controller\n",
    "from ballsbot.utils import keep_rps, run_as_thread\n",
    "from ballsbot.augmented_lidar import get_augmented_lidar\n",
    "from ballsbot.ros_messages import get_ros_messages\n",
    "from ballsbot.manipulator import Manipulator\n",
    "from ballsbot.joystick import JoystickWrapper\n",
    "from ballsbot.drawing import ManipulatorPoseDrawing\n",
    "from ballsbot.lidar_drawing import LidarDrawing"
   ]
  },
  {
   "cell_type": "code",
   "execution_count": null,
   "metadata": {},
   "outputs": [],
   "source": [
    "get_ros_messages().start(sync=False)"
   ]
  },
  {
   "cell_type": "code",
   "execution_count": null,
   "metadata": {
    "scrolled": false
   },
   "outputs": [],
   "source": [
    "controller = widgets.Controller(index=0)  # http://html5gamepad.com\n",
    "display(controller)\n",
    "\n",
    "images = []\n",
    "for image, camera in get_images_and_cameras():\n",
    "    images.append(image)\n",
    "hbox = widgets.HBox(images)\n",
    "display(hbox)\n",
    "\n",
    "lidar_image = widgets.Image(format='jpeg', width=600, height=600)\n",
    "\n",
    "painter = ManipulatorPoseDrawing(widgets)\n",
    "display(widgets.HBox([\n",
    "    lidar_image,\n",
    "    widgets.VBox([painter.get_images(), widgets.Image(format='jpeg', width=400, height=200)])\n",
    "]))"
   ]
  },
  {
   "cell_type": "code",
   "execution_count": null,
   "metadata": {},
   "outputs": [],
   "source": [
    "joystick_wrapper = JoystickWrapper(controller)\n",
    "manipulator = Manipulator(joystick_wrapper)\n",
    "\n",
    "link_controller(joystick_wrapper)\n",
    "\n",
    "lidar = get_augmented_lidar()\n",
    "lidar.start()\n",
    "\n",
    "# lidar = Lidar()\n",
    "# lidar.calibrate()\n",
    "# print(lidar.calibration)\n",
    "\n",
    "lidar_drawer = LidarDrawing(lidar)"
   ]
  },
  {
   "cell_type": "code",
   "execution_count": null,
   "metadata": {
    "scrolled": false
   },
   "outputs": [],
   "source": [
    "def lidar_drawer_run():\n",
    "    lidar_drawer.show_lidar_cloud(lidar_image, cached=False)\n",
    "\n",
    "run_as_thread(lidar_drawer_run)"
   ]
  },
  {
   "cell_type": "code",
   "execution_count": null,
   "metadata": {},
   "outputs": [],
   "source": [
    "def update_manipulator_images():\n",
    "    ts = None\n",
    "    while True:\n",
    "        ts = keep_rps(ts, fps=1)\n",
    "        pose = manipulator.get_manipulator_pose()\n",
    "        painter.update_images(pose, override_crop_half_size=550.)\n",
    "\n",
    "run_as_thread(update_manipulator_images)"
   ]
  },
  {
   "cell_type": "code",
   "execution_count": null,
   "metadata": {},
   "outputs": [],
   "source": [
    "# from ballsbot.utils import join_all_theads\n",
    "# join_all_theads()"
   ]
  }
 ],
 "metadata": {
  "kernelspec": {
   "display_name": "Python 3",
   "language": "python",
   "name": "python3"
  },
  "language_info": {
   "codemirror_mode": {
    "name": "ipython",
    "version": 3
   },
   "file_extension": ".py",
   "mimetype": "text/x-python",
   "name": "python",
   "nbconvert_exporter": "python",
   "pygments_lexer": "ipython3",
   "version": "3.6.9"
  }
 },
 "nbformat": 4,
 "nbformat_minor": 4
}
