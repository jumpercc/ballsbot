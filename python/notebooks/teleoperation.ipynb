{
 "cells": [
  {
   "cell_type": "code",
   "execution_count": null,
   "metadata": {},
   "outputs": [],
   "source": [
    "import ipywidgets.widgets as widgets\n",
    "from time import sleep\n",
    "import sys\n",
    "sys.path.append('/home/ballsbot/projects/ballsbot/python/lib')\n",
    "from ballsbot.camera import get_images_and_cameras\n",
    "from ballsbot.controller import link_controller\n",
    "from ballsbot.utils import keep_rps, run_as_thread\n",
    "from ballsbot.augmented_lidar import get_augmented_lidar\n",
    "from ballsbot.ros_messages import get_ros_messages\n",
    "from ballsbot.manipulator import Manipulator\n",
    "from ballsbot.joystick import JoystickWrapper\n",
    "from ballsbot.drawing import ManipulatorPoseDrawing, BotPoseSelfCoordsDrawing, StatusMessagesDrawing\n",
    "from ballsbot.dashboard import Dashboard\n",
    "from ballsbot.lidar_drawing import LidarDrawing\n",
    "from ballsbot.ups import UPS"
   ]
  },
  {
   "cell_type": "code",
   "execution_count": null,
   "metadata": {},
   "outputs": [],
   "source": [
    "get_ros_messages().start(sync=False)"
   ]
  },
  {
   "cell_type": "code",
   "execution_count": null,
   "metadata": {},
   "outputs": [],
   "source": [
    "lidar = get_augmented_lidar()\n",
    "lidar.start()\n",
    "\n",
    "# lidar = Lidar()\n",
    "# lidar.calibrate()\n",
    "# print(lidar.calibration)\n",
    "\n",
    "ups = UPS()"
   ]
  },
  {
   "cell_type": "code",
   "execution_count": null,
   "metadata": {},
   "outputs": [],
   "source": [
    "controller = widgets.Controller(index=0)  # http://html5gamepad.com\n",
    "display(controller)\n",
    "\n",
    "images = []\n",
    "for image, camera in get_images_and_cameras():\n",
    "    images.append(image)\n",
    "hbox = widgets.HBox(images)\n",
    "display(hbox)\n",
    "\n",
    "dashboard = Dashboard(widgets)\n",
    "\n",
    "lidar_drawing_raw = BotPoseSelfCoordsDrawing(dashboard, 'lidar')\n",
    "lidar_drawing = LidarDrawing(lidar, lidar_drawing_raw)\n",
    "dashboard.add_subplot('lidar', lidar_drawing_raw.get_drawing_func_name())\n",
    "\n",
    "status_drawing_raw = StatusMessagesDrawing(dashboard, 'status')\n",
    "dashboard.add_subplot('status', status_drawing_raw.get_drawing_func_name())\n",
    "\n",
    "manipulator_drawing_raw = ManipulatorPoseDrawing(dashboard, 'manipulator_xy', 'manipulator_xz')\n",
    "dashboard.add_subplot('manipulator_xy', manipulator_drawing_raw.get_drawing_func_name())\n",
    "dashboard.add_subplot('manipulator_xz', manipulator_drawing_raw.get_drawing_func_name())\n",
    "\n",
    "display(dashboard.get_image())"
   ]
  },
  {
   "cell_type": "code",
   "execution_count": null,
   "metadata": {},
   "outputs": [],
   "source": [
    "joystick_wrapper = JoystickWrapper(controller)\n",
    "manipulator = Manipulator(joystick_wrapper, without_encoders=True)\n",
    "link_controller(joystick_wrapper)"
   ]
  },
  {
   "cell_type": "code",
   "execution_count": null,
   "metadata": {},
   "outputs": [],
   "source": [
    "def update_images():\n",
    "    ts = None\n",
    "    while True:\n",
    "        ts = keep_rps(ts, fps=1)\n",
    "\n",
    "        lidar_drawing.update_image_once(cached=False)\n",
    "\n",
    "        capacity = int(round(ups.get_capacity()))\n",
    "        distances = lidar.cached_distances\n",
    "        if distances and 'manipulator' in distances and distances['manipulator']:\n",
    "            distance = distances['manipulator'].get('distance', -1)\n",
    "        else:\n",
    "            distance = -1\n",
    "        status_drawing_raw.update_image(f'battery charge: {capacity}%\\ntarget: {distance} m')\n",
    "\n",
    "        pose = manipulator.get_manipulator_pose()\n",
    "        manipulator_drawing_raw.update_image(pose, override_crop_half_size=750.)\n",
    "\n",
    "        dashboard.redraw()\n",
    "\n",
    "run_as_thread(update_images)"
   ]
  },
  {
   "cell_type": "code",
   "execution_count": null,
   "metadata": {},
   "outputs": [],
   "source": [
    "# from ballsbot.utils import join_all_theads\n",
    "# join_all_theads()"
   ]
  }
 ],
 "metadata": {
  "kernelspec": {
   "display_name": "Python 3",
   "language": "python",
   "name": "python3"
  },
  "language_info": {
   "codemirror_mode": {
    "name": "ipython",
    "version": 3
   },
   "file_extension": ".py",
   "mimetype": "text/x-python",
   "name": "python",
   "nbconvert_exporter": "python",
   "pygments_lexer": "ipython3",
   "version": "3.6.9"
  }
 },
 "nbformat": 4,
 "nbformat_minor": 4
}
