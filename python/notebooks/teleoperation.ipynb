{
 "cells": [
  {
   "cell_type": "code",
   "execution_count": null,
   "metadata": {},
   "outputs": [],
   "source": [
    "import ipywidgets.widgets as widgets\n",
    "from time import sleep\n",
    "import sys\n",
    "sys.path.append('/home/ballsbot/projects/ballsbot/python/lib')\n",
    "from ballsbot.camera import get_images_and_cameras\n",
    "from ballsbot.servos import get_controls\n",
    "from ballsbot.utils import keep_rps"
   ]
  },
  {
   "cell_type": "code",
   "execution_count": null,
   "metadata": {},
   "outputs": [],
   "source": [
    "from ballsbot.lidar import Lidar\n",
    "from ballsbot.session import start_rospy_session\n",
    "from ballsbot.utils import run_as_thread"
   ]
  },
  {
   "cell_type": "code",
   "execution_count": null,
   "metadata": {},
   "outputs": [],
   "source": [
    "from ballsbot.imu import IMU_Threaded"
   ]
  },
  {
   "cell_type": "code",
   "execution_count": null,
   "metadata": {},
   "outputs": [],
   "source": [
    "start_rospy_session('a_car')\n",
    "\n",
    "image, camera = get_images_and_cameras()\n",
    "display(image)\n",
    "\n",
    "lidar_image = widgets.Image(format='jpeg', width=600, height=600)\n",
    "display(lidar_image)\n",
    "\n",
    "controller = widgets.Controller(index=0)  # http://html5gamepad.com\n",
    "display(controller)\n",
    "\n",
    "lidar = Lidar()"
   ]
  },
  {
   "cell_type": "code",
   "execution_count": null,
   "metadata": {
    "scrolled": false
   },
   "outputs": [],
   "source": [
    "# lidar.calibrate()\n",
    "# print(lidar.calibration)\n",
    "\n",
    "def lidar_run():\n",
    "    lidar.show_lidar_cloud(lidar_image)\n",
    "\n",
    "run_as_thread(lidar_run)"
   ]
  },
  {
   "cell_type": "code",
   "execution_count": null,
   "metadata": {},
   "outputs": [],
   "source": [
    "imu = IMU_Threaded()"
   ]
  },
  {
   "cell_type": "code",
   "execution_count": null,
   "metadata": {},
   "outputs": [],
   "source": [
    "car_controls = get_controls()\n",
    "\n",
    "def update_steering(value):\n",
    "    car_controls['steering'].run(value['new'])\n",
    "\n",
    "def update_throttle(value):\n",
    "    car_controls['throttle'].run(-value['new'])\n",
    "\n",
    "def link_controls():\n",
    "    ts = None\n",
    "    while True:\n",
    "        ts = keep_rps(ts, fps=1)\n",
    "\n",
    "        if len(controller.axes):\n",
    "            controller.axes[0].observe(update_steering, 'value')\n",
    "            controller.axes[1].observe(update_throttle, 'value')\n",
    "            break\n",
    "\n",
    "run_as_thread(link_controls)"
   ]
  },
  {
   "cell_type": "code",
   "execution_count": null,
   "metadata": {},
   "outputs": [],
   "source": [
    "# import json\n",
    "# json.dumps(lidar._get_lidar_points(8.))"
   ]
  },
  {
   "cell_type": "code",
   "execution_count": null,
   "metadata": {},
   "outputs": [],
   "source": [
    "# for cam in cameras:\n",
    "#     cam.stop()"
   ]
  }
 ],
 "metadata": {
  "kernelspec": {
   "display_name": "Python 3",
   "language": "python",
   "name": "python3"
  },
  "language_info": {
   "codemirror_mode": {
    "name": "ipython",
    "version": 3
   },
   "file_extension": ".py",
   "mimetype": "text/x-python",
   "name": "python",
   "nbconvert_exporter": "python",
   "pygments_lexer": "ipython3",
   "version": "3.6.9"
  }
 },
 "nbformat": 4,
 "nbformat_minor": 4
}
