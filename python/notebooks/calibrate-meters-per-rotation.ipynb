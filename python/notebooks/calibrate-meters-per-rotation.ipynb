{
 "cells": [
  {
   "cell_type": "code",
   "execution_count": null,
   "metadata": {},
   "outputs": [],
   "source": [
    "import sys\n",
    "sys.path.append('/home/ballsbot/projects/ballsbot/python/lib')\n",
    "from ballsbot.servos import get_controls\n",
    "from ballsbot.imu import IMU\n",
    "from ballsbot.odometry import Odometry"
   ]
  },
  {
   "cell_type": "code",
   "execution_count": null,
   "metadata": {
    "scrolled": false
   },
   "outputs": [],
   "source": [
    "car_controls = get_controls()\n",
    "imu = IMU()\n",
    "odometry = Odometry()"
   ]
  },
  {
   "cell_type": "code",
   "execution_count": null,
   "metadata": {},
   "outputs": [],
   "source": [
    "from ballsbot.utils import keep_rps\n",
    "from IPython.display import clear_output\n",
    "\n",
    "ts = None\n",
    "while True:\n",
    "    ts = keep_rps(ts, fps=4)\n",
    "    clear_output(wait=True)\n",
    "    print(\"{}\".format(odometry.odometry_counter))"
   ]
  }
 ],
 "metadata": {
  "kernelspec": {
   "display_name": "Python 3",
   "language": "python",
   "name": "python3"
  },
  "language_info": {
   "codemirror_mode": {
    "name": "ipython",
    "version": 3
   },
   "file_extension": ".py",
   "mimetype": "text/x-python",
   "name": "python",
   "nbconvert_exporter": "python",
   "pygments_lexer": "ipython3",
   "version": "3.6.9"
  }
 },
 "nbformat": 4,
 "nbformat_minor": 4
}
