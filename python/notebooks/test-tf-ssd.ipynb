{
 "cells": [
  {
   "cell_type": "code",
   "execution_count": null,
   "metadata": {},
   "outputs": [],
   "source": [
    "import tensorflow as tf\n",
    "import cv2\n",
    "import matplotlib.pyplot as plt\n",
    "from matplotlib import patches"
   ]
  },
  {
   "cell_type": "code",
   "execution_count": null,
   "metadata": {},
   "outputs": [],
   "source": [
    "with open('/home/ballsbot/projects/ballsbot/ros_modules/ballsbot_detection/ssd_coco_labels.txt') as hf:\n",
    "    classes = [x.strip() for x in hf]"
   ]
  },
  {
   "cell_type": "code",
   "execution_count": null,
   "metadata": {},
   "outputs": [],
   "source": [
    "%%time\n",
    "model = tf.saved_model.load(\n",
    "    '/home/ballsbot/projects/ballsbot/detection_model'\n",
    ")\n",
    "inference_func = model.signatures[\"serving_default\"]"
   ]
  },
  {
   "cell_type": "code",
   "execution_count": null,
   "metadata": {},
   "outputs": [],
   "source": [
    "image = cv2.imread('/home/ballsbot/Downloads/cat-320-320.4.jpg')\n",
    "image = cv2.cvtColor(image, cv2.COLOR_BGR2RGB)\n",
    "plt.imshow(image)"
   ]
  },
  {
   "cell_type": "code",
   "execution_count": null,
   "metadata": {
    "scrolled": true
   },
   "outputs": [],
   "source": [
    "%%time\n",
    "rgb_tensor = tf.convert_to_tensor(image, dtype=tf.uint8)\n",
    "rgb_tensor = tf.expand_dims(rgb_tensor , 0)\n",
    "result = inference_func(rgb_tensor)"
   ]
  },
  {
   "cell_type": "code",
   "execution_count": null,
   "metadata": {},
   "outputs": [],
   "source": [
    "ax = plt.subplot()\n",
    "ax.imshow(image)\n",
    "\n",
    "colors = ['r', 'g', 'b', 'orange']\n",
    "color_index = 0\n",
    "scores = result['detection_scores'].numpy()[0]\n",
    "for i in range(int(result['num_detections'].numpy()[0])):\n",
    "    if scores[i] < 0.58:\n",
    "        continue\n",
    "    class_number = int(result['detection_classes'][0][i].numpy())\n",
    "    class_name = classes[class_number]\n",
    "    coords = result['detection_boxes'][0][i].numpy()\n",
    "\n",
    "    image_size = 320\n",
    "    y0, x0, y1, x1 = [int(round(x * image_size)) for x in coords]\n",
    "    x, y, w, h = x0, y0, x1-x0, y1-y0\n",
    "    print(f'{class_name} {(x0, y0, x1, y1)} {int(round(scores[i]*100))}%')\n",
    "\n",
    "    rect = patches.Rectangle(\n",
    "        (x, y), w, h,\n",
    "        linewidth=3, edgecolor=colors[color_index], facecolor='none'\n",
    "    )\n",
    "    ax.add_patch(rect)\n",
    "    color_index += 1\n",
    "    color_index %= len(colors)"
   ]
  },
  {
   "cell_type": "code",
   "execution_count": null,
   "metadata": {},
   "outputs": [],
   "source": [
    "%timeit inference_func(rgb_tensor)"
   ]
  }
 ],
 "metadata": {
  "kernelspec": {
   "display_name": "Python 3",
   "language": "python",
   "name": "python3"
  },
  "language_info": {
   "codemirror_mode": {
    "name": "ipython",
    "version": 3
   },
   "file_extension": ".py",
   "mimetype": "text/x-python",
   "name": "python",
   "nbconvert_exporter": "python",
   "pygments_lexer": "ipython3",
   "version": "3.6.9"
  }
 },
 "nbformat": 4,
 "nbformat_minor": 4
}
