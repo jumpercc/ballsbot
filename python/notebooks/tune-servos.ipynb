{
 "cells": [
  {
   "cell_type": "code",
   "execution_count": null,
   "metadata": {},
   "outputs": [],
   "source": [
    "import ipywidgets.widgets as widgets\n",
    "import sys\n",
    "sys.path.append('/home/ballsbot/projects/ballsbot/python/lib')\n",
    "from ballsbot.servos import PCA9685, map_range, get_controls\n",
    "from ballsbot.utils import keep_rps, run_as_thread\n",
    "from ballsbot.manipulator import float_map_range, STEP, RPS, IGNORE_LIMIT"
   ]
  },
  {
   "cell_type": "code",
   "execution_count": null,
   "metadata": {},
   "outputs": [],
   "source": [
    "controller = widgets.Controller(index=0)  # http://html5gamepad.com\n",
    "display(controller)"
   ]
  },
  {
   "cell_type": "code",
   "execution_count": null,
   "metadata": {},
   "outputs": [],
   "source": [
    "car_controls = get_controls()"
   ]
  },
  {
   "cell_type": "code",
   "execution_count": null,
   "metadata": {},
   "outputs": [],
   "source": [
    "servo_config = {\n",
    "    \"channel\": 5,\n",
    "    \"min_pulse\": 101,\n",
    "    \"max_pulse\": 680,\n",
    "    \"default_position\": 0.5,\n",
    "}\n",
    "\n",
    "servo = PCA9685(servo_config['channel'])"
   ]
  },
  {
   "cell_type": "code",
   "execution_count": null,
   "metadata": {},
   "outputs": [],
   "source": [
    "current_position = servo_config['default_position']  # FIXME\n",
    "pulse = None\n",
    "\n",
    "def link_servo_to_controller(servo, controller, axis, servo_config):\n",
    "    global current_position  # FIXME\n",
    "    global pulse  # FIXME\n",
    "    \n",
    "    ts = None\n",
    "    while True:\n",
    "        ts = keep_rps(ts, fps=RPS)\n",
    "\n",
    "        if len(controller.axes):\n",
    "            value = controller.axes[axis].value\n",
    "\n",
    "            if abs(value) > IGNORE_LIMIT:\n",
    "                increment = float_map_range(value, -1, 1, -STEP, STEP)\n",
    "                current_position += increment\n",
    "                if current_position < -1.:\n",
    "                    current_position = -1.\n",
    "                elif current_position > 1.:\n",
    "                    current_position = 1.\n",
    "\n",
    "        pulse = map_range(\n",
    "            current_position,\n",
    "            -1., 1.,\n",
    "            servo_config['min_pulse'], servo_config['max_pulse']\n",
    "        )\n",
    "        servo.set_pulse(pulse)"
   ]
  },
  {
   "cell_type": "code",
   "execution_count": null,
   "metadata": {},
   "outputs": [],
   "source": [
    "run_as_thread(\n",
    "    link_servo_to_controller,\n",
    "    servo=servo,\n",
    "    controller=controller,\n",
    "    axis=0,\n",
    "    servo_config=servo_config\n",
    ")"
   ]
  },
  {
   "cell_type": "code",
   "execution_count": null,
   "metadata": {},
   "outputs": [],
   "source": [
    "print(pulse)\n",
    "print(current_position)"
   ]
  }
 ],
 "metadata": {
  "kernelspec": {
   "display_name": "Python 3",
   "language": "python",
   "name": "python3"
  },
  "language_info": {
   "codemirror_mode": {
    "name": "ipython",
    "version": 3
   },
   "file_extension": ".py",
   "mimetype": "text/x-python",
   "name": "python",
   "nbconvert_exporter": "python",
   "pygments_lexer": "ipython3",
   "version": "3.6.9"
  }
 },
 "nbformat": 4,
 "nbformat_minor": 4
}
