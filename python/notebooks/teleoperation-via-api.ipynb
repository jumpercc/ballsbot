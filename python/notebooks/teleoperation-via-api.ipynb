{
 "cells": [
  {
   "cell_type": "code",
   "execution_count": null,
   "metadata": {},
   "outputs": [],
   "source": [
    "import ipywidgets.widgets as widgets\n",
    "from time import sleep, time\n",
    "import requests\n",
    "import json\n",
    "import sys\n",
    "sys.path.append('/home/ballsbot/projects/ballsbot/python/lib')\n",
    "import ballsbot.config as config\n",
    "\n",
    "config.ENABLE_MULTIPROCESSING = False"
   ]
  },
  {
   "cell_type": "code",
   "execution_count": null,
   "metadata": {},
   "outputs": [],
   "source": [
    "from ballsbot.utils import keep_rps, run_as_thread\n",
    "from ballsbot.drawing import ManipulatorPoseDrawing, BotPoseSelfCoordsDrawing, StatusMessagesDrawing\n",
    "from ballsbot.dashboard import Dashboard\n",
    "from ballsbot.lidar_drawing import LidarDrawing\n",
    "from ballsbot.lidar import default_calibration"
   ]
  },
  {
   "cell_type": "code",
   "execution_count": null,
   "metadata": {},
   "outputs": [],
   "source": [
    "from requests.packages.urllib3.exceptions import InsecureRequestWarning\n",
    "\n",
    "requests.packages.urllib3.disable_warnings(InsecureRequestWarning)"
   ]
  },
  {
   "cell_type": "code",
   "execution_count": null,
   "metadata": {},
   "outputs": [],
   "source": [
    "controller = widgets.Controller(index=0)  # http://html5gamepad.com\n",
    "display(controller)"
   ]
  },
  {
   "cell_type": "code",
   "execution_count": null,
   "metadata": {},
   "outputs": [],
   "source": [
    "def get_controller_state():\n",
    "    ts = None\n",
    "    while True:\n",
    "        ts = keep_rps(ts, fps=1)\n",
    "        if len(controller.axes):\n",
    "            break\n",
    "    \n",
    "    axes = [it.value for it in controller.axes]\n",
    "    buttons = [it.value for it in controller.buttons]\n",
    "    return {\n",
    "        'axes': axes,\n",
    "        'buttons': buttons,\n",
    "    }"
   ]
  },
  {
   "cell_type": "code",
   "execution_count": null,
   "metadata": {},
   "outputs": [],
   "source": [
    "bot_ip = '192.168.0.115'\n",
    "bot_port = 4443\n",
    "bot_key = 'FIXME'"
   ]
  },
  {
   "cell_type": "code",
   "execution_count": null,
   "metadata": {},
   "outputs": [],
   "source": [
    "bot_state = None\n",
    "images_content = [None, None]\n",
    "\n",
    "def update_bot_state():\n",
    "    global bot_state, images_content\n",
    "    \n",
    "    session = requests.Session()\n",
    "    \n",
    "    # POST https://192.168.0.115:4443/auth password\n",
    "    r = session.post(f'https://{bot_ip}:{bot_port}/auth', data={'key': bot_key}, verify=False)\n",
    "    r.raise_for_status()\n",
    "    token = r.json()['token']\n",
    "\n",
    "    # GET https://192.168.0.115:4443/settings?token=\n",
    "    r = session.get(f'https://{bot_ip}:{bot_port}/settings', params={'token': token}, verify=False)\n",
    "    r.raise_for_status()\n",
    "    settings = r.json()\n",
    "\n",
    "    ts = None\n",
    "    while True:\n",
    "        ts = keep_rps(ts, fps=4)\n",
    "\n",
    "        # POST https://192.168.0.115:4443/controller_state controller_state token\n",
    "        r = session.post(f'https://{bot_ip}:{bot_port}/controller_state', data={\n",
    "            'token': token,\n",
    "            'controller_state': json.dumps(get_controller_state()),\n",
    "        }, verify=False)\n",
    "        r.raise_for_status()\n",
    "        bot_state = r.json()\n",
    "\n",
    "        for i in (0, 1):\n",
    "            # GET https://192.168.0.115:4443/camera_image?token=&image_index=0\n",
    "            r = session.get(f'https://{bot_ip}:{bot_port}/camera_image', params={'token': token, 'image_index': i}, verify=False)\n",
    "            r.raise_for_status()\n",
    "            images_content[i] = r.content\n",
    "\n",
    "run_as_thread(update_bot_state)"
   ]
  },
  {
   "cell_type": "code",
   "execution_count": null,
   "metadata": {},
   "outputs": [],
   "source": [
    "class LidarStub:\n",
    "    def get_calibration(self):\n",
    "        return default_calibration()\n",
    "\n",
    "    def get_lidar_points(self, **kwargs):\n",
    "        return bot_state['lidar']\n",
    "\n",
    "lidar = LidarStub()\n",
    "\n",
    "images = []\n",
    "for _ in (0, 1):\n",
    "    images.append(widgets.Image(format='jpeg', width=320, height=240))\n",
    "hbox = widgets.HBox(images)\n",
    "display(hbox)\n",
    "\n",
    "dashboard = Dashboard(widgets)\n",
    "\n",
    "lidar_drawing_raw = BotPoseSelfCoordsDrawing(dashboard, 'lidar')\n",
    "lidar_drawing = LidarDrawing(lidar, lidar_drawing_raw)\n",
    "dashboard.add_subplot('lidar', lidar_drawing_raw.get_drawing_func_name())\n",
    "\n",
    "status_drawing_raw = StatusMessagesDrawing(dashboard, 'status')\n",
    "dashboard.add_subplot('status', status_drawing_raw.get_drawing_func_name())\n",
    "\n",
    "manipulator_drawing_raw = ManipulatorPoseDrawing(dashboard, 'manipulator_xy', 'manipulator_xz')\n",
    "dashboard.add_subplot('manipulator_xy', manipulator_drawing_raw.get_drawing_func_name())\n",
    "dashboard.add_subplot('manipulator_xz', manipulator_drawing_raw.get_drawing_func_name())\n",
    "\n",
    "display(dashboard.get_image())"
   ]
  },
  {
   "cell_type": "code",
   "execution_count": null,
   "metadata": {},
   "outputs": [],
   "source": [
    "def update_images():\n",
    "    ts = None\n",
    "    while True:\n",
    "        ts = keep_rps(ts, fps=4)\n",
    "        \n",
    "        if not images_content[0]:\n",
    "            continue\n",
    "\n",
    "        for i in (0, 1):\n",
    "            images[i].value = images_content[i]\n",
    "\n",
    "        if not bot_state:\n",
    "            continue\n",
    "\n",
    "        lidar_drawing.update_image_once(cached=False)\n",
    "\n",
    "        capacity = int(round(bot_state['ups'] or -1.))\n",
    "        distances = bot_state['distance_sensors']\n",
    "        if distances and 'manipulator' in distances and distances['manipulator']:\n",
    "            distance = distances['manipulator'].get('distance', -1)\n",
    "        else:\n",
    "            distance = -1\n",
    "        status_drawing_raw.update_image(f'battery charge: {capacity}%\\ntarget: {distance} m')\n",
    "\n",
    "        pose = bot_state['manipulator']['current_pose']\n",
    "        manipulator_drawing_raw.update_image(pose, override_crop_half_size=750.)\n",
    "\n",
    "        dashboard.redraw()\n",
    "\n",
    "run_as_thread(update_images)"
   ]
  },
  {
   "cell_type": "code",
   "execution_count": null,
   "metadata": {
    "tags": []
   },
   "outputs": [],
   "source": [
    "# from ballsbot.utils import join_all_theads\n",
    "# join_all_theads()"
   ]
  }
 ],
 "metadata": {
  "kernelspec": {
   "display_name": "Python 3",
   "language": "python",
   "name": "python3"
  },
  "language_info": {
   "codemirror_mode": {
    "name": "ipython",
    "version": 3
   },
   "file_extension": ".py",
   "mimetype": "text/x-python",
   "name": "python",
   "nbconvert_exporter": "python",
   "pygments_lexer": "ipython3",
   "version": "3.8.10"
  }
 },
 "nbformat": 4,
 "nbformat_minor": 4
}
