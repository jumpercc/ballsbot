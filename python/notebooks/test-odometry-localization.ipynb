{
 "cells": [
  {
   "cell_type": "code",
   "execution_count": null,
   "metadata": {},
   "outputs": [],
   "source": [
    "import ipywidgets.widgets as widgets\n",
    "from time import sleep\n",
    "import sys\n",
    "sys.path.append('/home/ballsbot/projects/ballsbot/python/lib')\n",
    "from ballsbot.camera import get_images_and_cameras\n",
    "from ballsbot.servos import get_controls\n",
    "from ballsbot.utils import keep_rps\n",
    "from ballsbot.lidar import Lidar\n",
    "from ballsbot.session import start_rospy_session\n",
    "from ballsbot.utils import run_as_thread\n",
    "from ballsbot.imu import IMU_Threaded\n",
    "from ballsbot.tracking import Tracker\n",
    "from ballsbot.odometry import Odometry\n",
    "from ballsbot.controller import link_controller"
   ]
  },
  {
   "cell_type": "code",
   "execution_count": null,
   "metadata": {},
   "outputs": [],
   "source": [
    "start_rospy_session('a_car')\n",
    "\n",
    "images = []\n",
    "for image, camera in get_images_and_cameras():\n",
    "    images.append(image)\n",
    "hbox = widgets.HBox(images)\n",
    "display(hbox)\n",
    "\n",
    "# lidar_image = widgets.Image(format='jpeg', width=600, height=600)\n",
    "# display(lidar_image)\n",
    "\n",
    "track_image = widgets.Image(format='jpeg', width=800, height=800)\n",
    "display(track_image)\n",
    "\n",
    "controller = widgets.Controller(index=0)  # http://html5gamepad.com\n",
    "display(controller)\n",
    "\n",
    "lidar = Lidar()"
   ]
  },
  {
   "cell_type": "code",
   "execution_count": null,
   "metadata": {
    "scrolled": false
   },
   "outputs": [],
   "source": [
    "def lidar_run():\n",
    "    lidar.auto_update_lidar_cloud(fps=4)\n",
    "\n",
    "run_as_thread(lidar_run)"
   ]
  },
  {
   "cell_type": "code",
   "execution_count": null,
   "metadata": {},
   "outputs": [],
   "source": [
    "imu = IMU_Threaded()"
   ]
  },
  {
   "cell_type": "code",
   "execution_count": null,
   "metadata": {},
   "outputs": [],
   "source": [
    "link_controller(controller)"
   ]
  },
  {
   "cell_type": "code",
   "execution_count": null,
   "metadata": {},
   "outputs": [],
   "source": [
    "odometry = Odometry(imu, get_controls()['throttle'])\n",
    "tracker = Tracker(imu, lidar, odometry, max_distance=5., fps=4, fix_pose_with_lidar=False) # FIXME\n",
    "\n",
    "def tracker_run():\n",
    "    tracker.start()\n",
    "run_as_thread(tracker_run)"
   ]
  },
  {
   "cell_type": "code",
   "execution_count": null,
   "metadata": {
    "scrolled": false
   },
   "outputs": [],
   "source": [
    "def update_track():\n",
    "    sleep(2)\n",
    "    ts = None\n",
    "    while True:\n",
    "        ts = keep_rps(ts, fps=1)\n",
    "        tracker.update_picture(track_image, only_nearby_meters=6.)\n",
    "\n",
    "run_as_thread(update_track)"
   ]
  },
  {
   "cell_type": "code",
   "execution_count": null,
   "metadata": {},
   "outputs": [],
   "source": [
    "# from ballsbot.utils import join_all_theads\n",
    "# join_all_theads()"
   ]
  },
  {
   "cell_type": "code",
   "execution_count": null,
   "metadata": {},
   "outputs": [],
   "source": [
    "# import json\n",
    "# with open('/home/jumper/readings.json', 'w') as the_file:\n",
    "#     the_file.write(json.dumps(tracker.readings, indent=4))"
   ]
  },
  {
   "cell_type": "code",
   "execution_count": null,
   "metadata": {},
   "outputs": [],
   "source": [
    "# for it in odometry.readings:\n",
    "#     print('teta {:+0.04f}, dteta {:+0.04f}, dteta_test {:+0.04f}, w_z {:+0.04f}'.format(it['teta'], it.get('dteta', 0.), it.get('dteta_test', 0.), it.get('w_z', 0.)))"
   ]
  },
  {
   "cell_type": "code",
   "execution_count": null,
   "metadata": {
    "scrolled": false
   },
   "outputs": [],
   "source": [
    "# import json\n",
    "# with open('/home/jumper/o-readings.json', 'w') as the_file:\n",
    "#     the_file.write(json.dumps(odometry.readings, indent=4))"
   ]
  },
  {
   "cell_type": "code",
   "execution_count": null,
   "metadata": {},
   "outputs": [],
   "source": [
    "# tracker.poses_to_a_file('/home/jumper/poses.json')"
   ]
  }
 ],
 "metadata": {
  "kernelspec": {
   "display_name": "Python 3",
   "language": "python",
   "name": "python3"
  },
  "language_info": {
   "codemirror_mode": {
    "name": "ipython",
    "version": 3
   },
   "file_extension": ".py",
   "mimetype": "text/x-python",
   "name": "python",
   "nbconvert_exporter": "python",
   "pygments_lexer": "ipython3",
   "version": "3.6.9"
  }
 },
 "nbformat": 4,
 "nbformat_minor": 4
}
