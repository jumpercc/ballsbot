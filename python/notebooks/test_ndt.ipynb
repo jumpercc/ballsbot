{
 "cells": [
  {
   "cell_type": "code",
   "execution_count": 1,
   "id": "a1dc8d0d-74ea-47fc-b3bb-2c55b0ff4527",
   "metadata": {},
   "outputs": [],
   "source": [
    "import json\n",
    "from IPython.display import clear_output, HTML, display\n",
    "import ipywidgets.widgets as widgets\n",
    "from tqdm.notebook import tqdm\n",
    "from matplotlib.backends.backend_agg import FigureCanvasAgg as FigureCanvas\n",
    "from matplotlib.figure import Figure\n",
    "from io import BytesIO\n",
    "from copy import deepcopy\n",
    "\n",
    "import sys\n",
    "sys.path.append('/home/ballsbot/projects/ballsbot/python/lib')\n",
    "\n",
    "from ballsbot.utils import figsize_from_image_size\n",
    "from ballsbot.lidar import apply_transformation_to_cloud, revert_transformation_to_cloud\n",
    "import ballsbot.config as config\n",
    "config.ENABLE_MULTIPROCESSING = False"
   ]
  },
  {
   "cell_type": "code",
   "execution_count": 2,
   "id": "cb6b569b-d223-41d8-92d0-9ac70b7ab3c0",
   "metadata": {},
   "outputs": [],
   "source": [
    "new_format = True\n",
    "with open('track_2024-08-20.json', 'r') as hf:\n",
    "    if new_format:\n",
    "        track = []\n",
    "        for line in hf:\n",
    "            try:\n",
    "                frame = json.loads(line)\n",
    "                track.append(frame)\n",
    "            except Exception as e:\n",
    "                print(f'broken frame {e}')\n",
    "    else:\n",
    "        track = json.loads(hf.read())"
   ]
  },
  {
   "cell_type": "code",
   "execution_count": 3,
   "id": "b281390a-25ec-436d-8601-b93470dc5d3c",
   "metadata": {},
   "outputs": [
    {
     "name": "stdout",
     "output_type": "stream",
     "text": [
      "516\n"
     ]
    }
   ],
   "source": [
    "print(len(track))"
   ]
  },
  {
   "cell_type": "code",
   "execution_count": 4,
   "id": "2ac08f3d-2f1f-48fd-81b2-28e9c8954904",
   "metadata": {},
   "outputs": [
    {
     "name": "stdout",
     "output_type": "stream",
     "text": [
      "{'x': 1.0, 'y': 2.0, 'teta': 3.0, 'ts': 1724168571.5121946}\n",
      "{'x': 1.0, 'y': 2.0, 'teta': 3.0, 'ts': 1724168572.3364182}\n"
     ]
    }
   ],
   "source": [
    "import math\n",
    "\n",
    "# first_i = 100\n",
    "# second_i = 105\n",
    "\n",
    "# first_i = 248\n",
    "# second_i = 250\n",
    "\n",
    "# first_i = 101\n",
    "# second_i = 102\n",
    "\n",
    "first_i = 4\n",
    "second_i = 5\n",
    "\n",
    "# first_i = 121\n",
    "# second_i = 122\n",
    "\n",
    "first_frame = track[first_i]\n",
    "second_frame = track[second_i]\n",
    "\n",
    "# first_frame['tracker']['current_pose'] = {'x': 1., 'y': 2., 'teta': math.radians(15), 'ts': 0.}\n",
    "# second_frame['tracker']['current_pose'] = {'x': 2., 'y': 7., 'teta': math.radians(45), 'ts': 1.}\n",
    "\n",
    "# first_frame['tracker']['free_tile_centers'] = None\n",
    "# second_frame['tracker']['free_tile_centers'] = None\n",
    "\n",
    "second_frame['lidar']['augmented_points'] = deepcopy(first_frame['lidar']['augmented_points'])\n",
    "second_frame['tracker']['current_pose'] = {'x': 1., 'y': 2., 'teta': 3., 'ts': second_frame['tracker']['current_pose']['ts']}\n",
    "first_frame['tracker']['current_pose'] = {'x': 1., 'y': 2., 'teta': 3., 'ts': first_frame['tracker']['current_pose']['ts']}\n",
    "\n",
    "second_frame['lidar']['augmented_points'] = revert_transformation_to_cloud(\n",
    "    second_frame['lidar']['augmented_points'],\n",
    "    [0.1, 0.15, 0.05]\n",
    ")\n",
    "\n",
    "print(first_frame['tracker']['current_pose'])\n",
    "print(second_frame['tracker']['current_pose'])"
   ]
  },
  {
   "cell_type": "code",
   "execution_count": 5,
   "id": "7faf5c05-fd25-4e93-87f6-6b8a1c6b3b97",
   "metadata": {},
   "outputs": [],
   "source": [
    "import ballsbot.drawing as drawing\n",
    "from ballsbot.lidar import calibration_to_xywh\n",
    "from ballsbot.drawing import BotPoseAbsCoordsDrawing\n",
    "from ballsbot.utils import keep_rps\n",
    "from ballsbot.lidar import revert_transformation_to_cloud, apply_transformation_to_cloud\n",
    "from ballsbot.dashboard import Dashboard"
   ]
  },
  {
   "cell_type": "code",
   "execution_count": 6,
   "id": "ee57c059-7f90-46a7-87f5-b2f6ed38a841",
   "metadata": {},
   "outputs": [
    {
     "data": {
      "application/vnd.jupyter.widget-view+json": {
       "model_id": "32945212a26f4929b66bc0591f51d046",
       "version_major": 2,
       "version_minor": 0
      },
      "text/plain": [
       "Image(value=b'', format='jpeg', height='1200', width='1200')"
      ]
     },
     "metadata": {},
     "output_type": "display_data"
    }
   ],
   "source": [
    "dashboard = Dashboard(widgets, image_size=1200)\n",
    "\n",
    "augmented_painter = BotPoseAbsCoordsDrawing(dashboard, 'augmented')\n",
    "dashboard.add_subplot('augmented', augmented_painter.get_drawing_func_name())\n",
    "sparse_painter = BotPoseAbsCoordsDrawing(dashboard, 'sparse')\n",
    "dashboard.add_subplot('sparse', sparse_painter.get_drawing_func_name())\n",
    "\n",
    "display(dashboard.get_image())"
   ]
  },
  {
   "cell_type": "code",
   "execution_count": 7,
   "id": "2ae08187-6275-462a-adba-002dd8a14815",
   "metadata": {},
   "outputs": [],
   "source": [
    "only_nearby_meters = 5\n",
    "calibration = {\n",
    "    'angle_fix': 3.0810609316737434,  # lidar orientation (radians)\n",
    "    'fl_x': 0.2041686441507201,  # front left corner coords\n",
    "    'fl_y': 0.10426277741236079,\n",
    "    'rr_x': -0.08011094659163859,  # rear right corner coords\n",
    "    'rr_y': -0.0988675829003773,\n",
    "}\n",
    "self_position = calibration_to_xywh(calibration)\n",
    "\n",
    "for frame_index, track_frame, painter in ((first_i, first_frame, augmented_painter), (second_i, second_frame, sparse_painter)):\n",
    "    pose = {'ts': track_frame['tracker']['current_pose']['ts'], 'x': 0., 'y': 0., 'teta': 0.}\n",
    "\n",
    "    if track_frame['tracker']['free_tile_centers']:\n",
    "        cells = [track_frame['tracker']['target_point']] + track_frame['tracker']['free_tile_centers']\n",
    "        transformation = (track_frame['tracker']['current_pose']['x'], track_frame['tracker']['current_pose']['y'], track_frame['tracker']['current_pose']['teta'])\n",
    "        transformed_cells = revert_transformation_to_cloud(cells, transformation)\n",
    "        free_cells = transformed_cells[1:]\n",
    "        target_point = transformed_cells[0]\n",
    "    else:\n",
    "        free_cells = None\n",
    "        target_point = None\n",
    "\n",
    "    painter.update_image(\n",
    "        [pose],\n",
    "        track_frame['lidar']['augmented_points'],\n",
    "        self_position,\n",
    "        free_cells=free_cells,\n",
    "        target_point=target_point,\n",
    "        image_text=str(frame_index),\n",
    "        only_nearby_meters=only_nearby_meters\n",
    "    )\n",
    "        \n",
    "dashboard.redraw()"
   ]
  },
  {
   "cell_type": "code",
   "execution_count": 8,
   "id": "4529a62b-b4c9-48e8-bd40-920bf4333e43",
   "metadata": {},
   "outputs": [],
   "source": [
    "# sys.path.append('/usr/local/lib/python3.6/dist-packages/python_pcl_ndt-0.2-py3.6-linux-x86_64.egg')"
   ]
  },
  {
   "cell_type": "code",
   "execution_count": 9,
   "id": "ae01f372-a52e-43ae-8e30-63ba2a464411",
   "metadata": {},
   "outputs": [
    {
     "name": "stdout",
     "output_type": "stream",
     "text": [
      "[0.0, 0.0, 0.0]\n"
     ]
    }
   ],
   "source": [
    "raw_result = [\n",
    "    second_frame['tracker']['current_pose'][k] - first_frame['tracker']['current_pose'][k]\n",
    "    for k in ['x', 'y', 'teta']\n",
    "]\n",
    "print(raw_result)"
   ]
  },
  {
   "cell_type": "code",
   "execution_count": 10,
   "id": "4ff792e3-91ac-49a0-b1c7-ae3e1531b259",
   "metadata": {},
   "outputs": [
    {
     "data": {
      "application/vnd.jupyter.widget-view+json": {
       "model_id": "8a04720ecbff4993b6a5e05e9e912e5d",
       "version_major": 2,
       "version_minor": 0
      },
      "text/plain": [
       "Image(value=b'', format='jpeg', height='640', width='640')"
      ]
     },
     "metadata": {},
     "output_type": "display_data"
    }
   ],
   "source": [
    "diff_image = widgets.Image(format='jpeg', width=640, height=640)\n",
    "display(diff_image)"
   ]
  },
  {
   "cell_type": "code",
   "execution_count": 11,
   "id": "c711f732-f841-4299-a6dc-697c725a267e",
   "metadata": {},
   "outputs": [
    {
     "name": "stderr",
     "output_type": "stream",
     "text": [
      "/usr/local/lib/python3.6/dist-packages/ipykernel_launcher.py:6: MatplotlibDeprecationWarning: Passing non-integers as three-element position specification is deprecated since 3.3 and will be removed two minor releases later.\n",
      "  \n"
     ]
    }
   ],
   "source": [
    "def get_dashboard_image(image, lidar_points1, lidar_points2, plot_size=1.0):\n",
    "    figsize = figsize_from_image_size(image)\n",
    "    fig = Figure(figsize=figsize)\n",
    "    canvas = FigureCanvas(fig)\n",
    "\n",
    "    ax = fig.add_subplot(plot_size, plot_size, 1)\n",
    "    ax.set_xlim(-only_nearby_meters, only_nearby_meters)\n",
    "    ax.set_ylim(-only_nearby_meters, only_nearby_meters)\n",
    "\n",
    "    lidar_x_points = [x[0] for x in lidar_points1]\n",
    "    lidar_y_points = [x[1] for x in lidar_points1]\n",
    "    ax.scatter(lidar_x_points, lidar_y_points, marker='o', s=5, c='blue')\n",
    "\n",
    "    lidar_x_points = [x[0] for x in lidar_points2]\n",
    "    lidar_y_points = [x[1] for x in lidar_points2]\n",
    "    ax.scatter(lidar_x_points, lidar_y_points, marker='o', s=4, c='red')\n",
    "\n",
    "    ax.grid(which='both', linestyle='--', alpha=0.5)\n",
    "    \n",
    "    canvas.draw()\n",
    "    jpeg = BytesIO()\n",
    "    canvas.print_jpg(jpeg)\n",
    "    image.value = jpeg.getvalue()\n",
    "\n",
    "get_dashboard_image(\n",
    "    diff_image,\n",
    "    apply_transformation_to_cloud(first_frame['lidar']['augmented_points'], [first_frame['tracker']['current_pose'][k] for k in ['x', 'y', 'teta']]),\n",
    "    apply_transformation_to_cloud(second_frame['lidar']['augmented_points'], [second_frame['tracker']['current_pose'][k] for k in ['x', 'y', 'teta']]),\n",
    ")"
   ]
  },
  {
   "cell_type": "code",
   "execution_count": 12,
   "id": "7082f558-2d42-421b-a382-5718dd2df3c4",
   "metadata": {},
   "outputs": [],
   "source": [
    "from python_pcl_ndt import python_pcl_ndt"
   ]
  },
  {
   "cell_type": "code",
   "execution_count": 13,
   "id": "4a4f7dac-45ec-4206-80c7-462e258939fe",
   "metadata": {},
   "outputs": [
    {
     "name": "stdout",
     "output_type": "stream",
     "text": [
      "{'x': 1.0, 'y': 2.0, 'teta': 3.0, 'ts': 1724168571.5121946}\n",
      "{'x': 1.0, 'y': 2.0, 'teta': 3.0, 'ts': 1724168572.3364182}\n"
     ]
    }
   ],
   "source": [
    "print(first_frame['tracker']['current_pose'])\n",
    "print(second_frame['tracker']['current_pose'])"
   ]
  },
  {
   "cell_type": "code",
   "execution_count": 14,
   "id": "9dbd0d44-03ce-4c87-a294-37fd399c8d0a",
   "metadata": {},
   "outputs": [
    {
     "name": "stdout",
     "output_type": "stream",
     "text": [
      "{'x_error': -0.2191791534423828, 'y_error': -0.23264431953430176, 'teta_error': -0.007548418361693621, 'x': 1.2498164176940918, 'y': 2.199385404586792, 'teta': 2.9924516677856445}\n"
     ]
    },
    {
     "name": "stderr",
     "output_type": "stream",
     "text": [
      "/usr/local/lib/python3.6/dist-packages/ipykernel_launcher.py:6: MatplotlibDeprecationWarning: Passing non-integers as three-element position specification is deprecated since 3.3 and will be removed two minor releases later.\n",
      "  \n"
     ]
    }
   ],
   "source": [
    "python_pcl_ndt.align_clouds(\n",
    "    first_frame['tracker']['current_pose'],\n",
    "    first_frame['lidar']['augmented_points'],\n",
    "    True  # fast\n",
    ")\n",
    "result = python_pcl_ndt.align_clouds(\n",
    "    second_frame['tracker']['current_pose'],\n",
    "    second_frame['lidar']['augmented_points'],\n",
    "    True  # fast\n",
    ")\n",
    "\n",
    "print(result)\n",
    "\n",
    "get_dashboard_image(\n",
    "    diff_image,\n",
    "    apply_transformation_to_cloud(first_frame['lidar']['augmented_points'], [first_frame['tracker']['current_pose'][k] for k in ['x', 'y', 'teta']]),\n",
    "    apply_transformation_to_cloud(second_frame['lidar']['augmented_points'], [result[k] for k in ['x', 'y', 'teta']]),\n",
    ")"
   ]
  },
  {
   "cell_type": "code",
   "execution_count": 15,
   "id": "538ae8ee-aae2-4d03-8c7d-81211bea7f1d",
   "metadata": {},
   "outputs": [
    {
     "data": {
      "text/plain": [
       "(0.9, 1.85, 2.95)"
      ]
     },
     "execution_count": 15,
     "metadata": {},
     "output_type": "execute_result"
    }
   ],
   "source": [
    "(1.-0.1, 2.-0.15, 3.-0.05)"
   ]
  }
 ],
 "metadata": {
  "kernelspec": {
   "display_name": "Python 3",
   "language": "python",
   "name": "python3"
  },
  "language_info": {
   "codemirror_mode": {
    "name": "ipython",
    "version": 3
   },
   "file_extension": ".py",
   "mimetype": "text/x-python",
   "name": "python",
   "nbconvert_exporter": "python",
   "pygments_lexer": "ipython3",
   "version": "3.6.9"
  }
 },
 "nbformat": 4,
 "nbformat_minor": 5
}
