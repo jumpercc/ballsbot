{
 "cells": [
  {
   "cell_type": "code",
   "execution_count": null,
   "metadata": {},
   "outputs": [],
   "source": [
    "import json\n",
    "from IPython.display import clear_output, HTML, display\n",
    "import ipywidgets.widgets as widgets\n",
    "from tqdm.notebook import tqdm\n",
    "import matplotlib.pyplot as plt"
   ]
  },
  {
   "cell_type": "code",
   "execution_count": null,
   "metadata": {},
   "outputs": [],
   "source": [
    "with open('manipulator-track-01.json', 'r') as hf:\n",
    "    track = []\n",
    "    for line in hf:\n",
    "        try:\n",
    "            frame = json.loads(line)\n",
    "            track.append(frame)\n",
    "        except Exception as e:\n",
    "            print(f'broken frame {e}')"
   ]
  },
  {
   "cell_type": "code",
   "execution_count": null,
   "metadata": {},
   "outputs": [],
   "source": [
    "len(track)"
   ]
  },
  {
   "cell_type": "code",
   "execution_count": null,
   "metadata": {
    "scrolled": false
   },
   "outputs": [],
   "source": [
    "print(json.dumps(track[105], indent=4, sort_keys=True))"
   ]
  },
  {
   "cell_type": "code",
   "execution_count": null,
   "metadata": {},
   "outputs": [],
   "source": [
    "%matplotlib notebook"
   ]
  },
  {
   "cell_type": "code",
   "execution_count": null,
   "metadata": {
    "scrolled": false
   },
   "outputs": [],
   "source": [
    "plt.style.use('ggplot')\n",
    "plt.figure(figsize=(20, 10))\n",
    "servo_name = ['m-0', 'm-1', 'm-2', 'm-claw']\n",
    "line_names = ['time', 'intended', 'real', 'diff', 'servo', 'ros_ts_lag']\n",
    "for index in range(1, 5):\n",
    "    plt.subplot(2, 2, int(index))\n",
    "    lines = {field: list() for field in line_names}\n",
    "    for it in track:\n",
    "        lines['time'].append(it['ts'])\n",
    "        for field in ['intended', 'real']:\n",
    "            lines[field].append(it['manipulator']['angles'][index-1][field])\n",
    "        if lines['real'][-1] is None:\n",
    "            lines['diff'].append(None)\n",
    "        else:\n",
    "            lines['diff'].append(lines['intended'][-1] - lines['real'][-1])\n",
    "        lines['servo'].append(it['manipulator']['servo_positions'][str(index-1)])\n",
    "        ros_ts = it['manipulator']['raw_angles'][servo_name[index-1]]['ts']\n",
    "        if ros_ts:\n",
    "            lines['ros_ts_lag'].append(it['ts'] - ros_ts)\n",
    "        else:\n",
    "            lines['ros_ts_lag'].append(None)\n",
    "    time_base = lines['time'][0]\n",
    "    lines['time'] = [x - time_base for x in lines['time']]\n",
    "    for line_name in line_names:\n",
    "        if line_name == 'time':\n",
    "            continue\n",
    "        plt.plot(lines['time'], lines[line_name], label=line_name)\n",
    "\n",
    "    plt.grid(True)\n",
    "    plt.legend()\n",
    "    plt.title(str(int(index)))\n",
    "    plt.tight_layout()\n",
    "plt.suptitle('By servo')\n",
    "plt.show()"
   ]
  }
 ],
 "metadata": {
  "kernelspec": {
   "display_name": "Python 3",
   "language": "python",
   "name": "python3"
  },
  "language_info": {
   "codemirror_mode": {
    "name": "ipython",
    "version": 3
   },
   "file_extension": ".py",
   "mimetype": "text/x-python",
   "name": "python",
   "nbconvert_exporter": "python",
   "pygments_lexer": "ipython3",
   "version": "3.8.10"
  }
 },
 "nbformat": 4,
 "nbformat_minor": 4
}
