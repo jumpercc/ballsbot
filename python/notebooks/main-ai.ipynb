{
 "cells": [
  {
   "cell_type": "code",
   "execution_count": null,
   "metadata": {},
   "outputs": [],
   "source": [
    "import ipywidgets.widgets as widgets\n",
    "from time import sleep\n",
    "import PIL.Image\n",
    "from io import BytesIO\n",
    "import numpy as np\n",
    "\n",
    "import sys\n",
    "sys.path.append('/home/ballsbot/projects/ballsbot/python/lib')\n",
    "from ballsbot.utils import keep_rps, run_as_thread\n",
    "from ballsbot.session import start_rospy_session\n",
    "from ballsbot.ai.explorer import Explorer\n",
    "from ballsbot_routing import ballsbot_routing"
   ]
  },
  {
   "cell_type": "code",
   "execution_count": null,
   "metadata": {},
   "outputs": [],
   "source": [
    "# track_image = widgets.Image(format='jpeg', width=800, height=800)\n",
    "# display(track_image)\n",
    "\n",
    "# grid_image = widgets.Image(format='bmp', width=200, height=200)\n",
    "# display(grid_image)"
   ]
  },
  {
   "cell_type": "code",
   "execution_count": null,
   "metadata": {},
   "outputs": [],
   "source": [
    "start_rospy_session('a_car')\n",
    "bot = Explorer()"
   ]
  },
  {
   "cell_type": "code",
   "execution_count": null,
   "metadata": {},
   "outputs": [],
   "source": [
    "# def showarray(a, image, fmt='bmp'):\n",
    "#     img_size = len(a)\n",
    "#     a = np.uint8(np.clip(a, 0, 255))\n",
    "#     f = BytesIO()\n",
    "#     PIL.Image.fromarray(a).save(f, fmt)\n",
    "#     image.value = f.getvalue()\n",
    "\n",
    "# def draw_a_grid(grid, a_pose):\n",
    "#     scale_factor = 10\n",
    "#     grid_size = 10\n",
    "#     grid_data = [[0 for _ in range(-grid_size*scale_factor, grid_size*scale_factor)] for _ in range(-grid_size*scale_factor, grid_size*scale_factor)]\n",
    "#     for x in range(-grid_size, grid_size):\n",
    "#         for y in range(-grid_size, grid_size):\n",
    "#             base_y = (grid_size-1-y)*scale_factor\n",
    "#             base_x = (x+grid_size)*scale_factor\n",
    "#             weight = int(grid.get_cell_weight((x, y)) * 255)\n",
    "#             for i in range(scale_factor):\n",
    "#                 for j in range(scale_factor):\n",
    "#                     grid_data[base_y+i][base_x+j] = weight\n",
    "#     showarray(grid_data, grid_image)\n",
    "\n",
    "# def autoupate_grid():\n",
    "#     sleep(2)\n",
    "#     grid = ballsbot_routing\n",
    "#     ts = None\n",
    "#     while True:\n",
    "#         ts = keep_rps(ts, fps=1)\n",
    "#         draw_a_grid(grid, bot.cached_pose)\n",
    "\n",
    "# run_as_thread(autoupate_grid)"
   ]
  },
  {
   "cell_type": "code",
   "execution_count": null,
   "metadata": {},
   "outputs": [],
   "source": [
    "# def update_track():\n",
    "#     sleep(2)\n",
    "#     ts = None\n",
    "#     while True:\n",
    "#         ts = keep_rps(ts, fps=1)\n",
    "#         bot.tracker.update_picture(track_image, only_nearby_meters=8.)\n",
    "\n",
    "# run_as_thread(update_track)"
   ]
  },
  {
   "cell_type": "code",
   "execution_count": null,
   "metadata": {
    "scrolled": false
   },
   "outputs": [],
   "source": [
    "bot.run()#save_track_info=True)"
   ]
  },
  {
   "cell_type": "code",
   "execution_count": null,
   "metadata": {},
   "outputs": [],
   "source": [
    "# bot.track_info_to_a_file('/home/jumper/track_info_01.json')"
   ]
  },
  {
   "cell_type": "code",
   "execution_count": null,
   "metadata": {},
   "outputs": [],
   "source": [
    "# from ballsbot.utils import join_all_theads\n",
    "# join_all_theads()"
   ]
  }
 ],
 "metadata": {
  "kernelspec": {
   "display_name": "Python 3",
   "language": "python",
   "name": "python3"
  },
  "language_info": {
   "codemirror_mode": {
    "name": "ipython",
    "version": 3
   },
   "file_extension": ".py",
   "mimetype": "text/x-python",
   "name": "python",
   "nbconvert_exporter": "python",
   "pygments_lexer": "ipython3",
   "version": "3.6.9"
  }
 },
 "nbformat": 4,
 "nbformat_minor": 4
}
