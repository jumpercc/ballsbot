{
 "cells": [
  {
   "cell_type": "code",
   "execution_count": null,
   "metadata": {},
   "outputs": [],
   "source": [
    "import ipywidgets.widgets as widgets\n",
    "from time import sleep, time\n",
    "import sys\n",
    "sys.path.append('/home/ballsbot/projects/ballsbot/python/lib')\n",
    "from ballsbot.drawing import BotPoseDrawing\n",
    "from ballsbot.camera import get_images_and_cameras\n",
    "from ballsbot.servos import get_controls\n",
    "from ballsbot.utils import keep_rps\n",
    "from ballsbot.lidar import calibration_to_xywh\n",
    "from ballsbot.lidar_with_memory import LidarWithMemory\n",
    "from ballsbot.utils import run_as_thread\n",
    "from ballsbot.tracking import Tracker\n",
    "from ballsbot.controller import link_controller\n",
    "from ballsbot_localization import ballsbot_localization as grid\n",
    "from ballsbot import drawing\n",
    "from ballsbot.ros_messages import get_ros_messages"
   ]
  },
  {
   "cell_type": "code",
   "execution_count": null,
   "metadata": {},
   "outputs": [],
   "source": [
    "images = []\n",
    "for image, camera in get_images_and_cameras():\n",
    "    images.append(image)\n",
    "hbox = widgets.HBox(images)\n",
    "display(hbox)\n",
    "\n",
    "track_image = widgets.Image(format='jpeg', width=600, height=600)\n",
    "display(track_image)\n",
    "\n",
    "controller = widgets.Controller(index=0)  # http://html5gamepad.com\n",
    "display(controller)"
   ]
  },
  {
   "cell_type": "code",
   "execution_count": null,
   "metadata": {},
   "outputs": [],
   "source": [
    "link_controller(controller)\n",
    "\n",
    "painter = BotPoseDrawing(track_image)\n",
    "\n",
    "lidar = LidarWithMemory()\n",
    "tracker = Tracker(lidar)\n",
    "tracker.start()\n",
    "\n",
    "get_ros_messages().start(sync=False)"
   ]
  },
  {
   "cell_type": "code",
   "execution_count": null,
   "metadata": {
    "scrolled": false
   },
   "outputs": [],
   "source": [
    "def update_track():\n",
    "    ts = None\n",
    "    while True:\n",
    "        ts = keep_rps(ts, fps=2)\n",
    "        params = tracker.get_picture_params(with_free_tiles=True)\n",
    "        if params:\n",
    "            painter.update_image(*params, only_nearby_meters=6.)\n",
    "\n",
    "run_as_thread(update_track)"
   ]
  },
  {
   "cell_type": "code",
   "execution_count": null,
   "metadata": {},
   "outputs": [],
   "source": [
    "# from ballsbot.utils import join_all_theads\n",
    "# join_all_theads()"
   ]
  },
  {
   "cell_type": "code",
   "execution_count": null,
   "metadata": {},
   "outputs": [],
   "source": [
    "# from ballsbot_localization import ballsbot_localization as grid\n",
    "# grid.get_poses()\n",
    "\n",
    "# import json\n",
    "# print(json.dumps({\n",
    "#     \"frames_processed\": tracker.lidar_frames_processed,\n",
    "#     \"lidar_deque\": len(tracker.lidar_deque),\n",
    "#     \"lidar_deque_empty_times\": tracker.lidar_deque_empty_times,\n",
    "#     \"pose_deque\": len(tracker.pose_deque),\n",
    "#     \"pose_deque_empty_times\": tracker.pose_deque_empty_times,\n",
    "#     \"distances_ignored_count\": tracker.lidar.lidar.distances_ignored_count,\n",
    "#     \"distances_ignored_old_count\": tracker.lidar.lidar.distances_ignored_old_count,\n",
    "#     \"distances_ignored_new_count\": tracker.lidar.lidar.distances_ignored_new_count,\n",
    "#     \"distances_merged_count\": tracker.lidar.lidar.distances_merged_count,\n",
    "# }, indent=4, sort_keys=True))\n",
    "\n",
    "# from time import time\n",
    "# lidar_ts = tracker.lidar_deque[0]['ts']\n",
    "# pose_ts = tracker.pose_deque[0]['ts']\n",
    "# real_ts = time()\n",
    "# (real_ts - lidar_ts, real_ts - pose_ts)"
   ]
  },
  {
   "cell_type": "code",
   "execution_count": null,
   "metadata": {},
   "outputs": [],
   "source": [
    "# import json\n",
    "# from ballsbot_localization import ballsbot_localization as grid\n",
    "# from ballsbot.config import TURN_DIAMETER, FROM_LIDAR_TO_CENTER, CAR_WIDTH, CAR_LENGTH, ENGINE_NEED_MANUAL_BREAKING, FROM_LIDAR_TO_PIVOT_CENTER\n",
    "\n",
    "# grid.debug_get_free_distances(\n",
    "#     lidar.get_points_ts(),\n",
    "#     {\n",
    "#         'to_car_center': FROM_LIDAR_TO_CENTER,\n",
    "#         'turn_radius': TURN_DIAMETER / 2.,\n",
    "#         'to_pivot_center': FROM_LIDAR_TO_PIVOT_CENTER,\n",
    "#         'car_width': CAR_WIDTH,\n",
    "#         'car_length': CAR_LENGTH,\n",
    "#         'engine_need_manual_breaking': ENGINE_NEED_MANUAL_BREAKING,\n",
    "#     }\n",
    "# )\n",
    "\n",
    "# state = tracker.lidar.tick_get_points()\n",
    "# state.update({\n",
    "#     'pose': tracker.get_current_pose(),\n",
    "#     'car_info': {\n",
    "#         'to_car_center': FROM_LIDAR_TO_CENTER,\n",
    "#         'turn_radius': TURN_DIAMETER / 2.,\n",
    "#         'to_pivot_center': FROM_LIDAR_TO_PIVOT_CENTER,\n",
    "#         'car_width': CAR_WIDTH,\n",
    "#         'car_length': CAR_LENGTH,\n",
    "#         'engine_need_manual_breaking': ENGINE_NEED_MANUAL_BREAKING,\n",
    "#     },\n",
    "# })\n",
    "# with open('/home/ballsbot/test.json', 'w') as hf:\n",
    "#     json.dump(state, hf, indent=4, sort_keys=True)"
   ]
  }
 ],
 "metadata": {
  "kernelspec": {
   "display_name": "Python 3",
   "language": "python",
   "name": "python3"
  },
  "language_info": {
   "codemirror_mode": {
    "name": "ipython",
    "version": 3
   },
   "file_extension": ".py",
   "mimetype": "text/x-python",
   "name": "python",
   "nbconvert_exporter": "python",
   "pygments_lexer": "ipython3",
   "version": "3.6.9"
  }
 },
 "nbformat": 4,
 "nbformat_minor": 4
}
