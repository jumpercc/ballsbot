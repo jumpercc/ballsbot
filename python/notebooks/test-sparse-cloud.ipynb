{
 "cells": [
  {
   "cell_type": "code",
   "execution_count": 1,
   "metadata": {},
   "outputs": [],
   "source": [
    "import ipywidgets.widgets as widgets\n",
    "from time import sleep, time\n",
    "import sys\n",
    "sys.path.append('/home/ballsbot/projects/ballsbot/python/lib')\n",
    "from ballsbot.camera import get_images_and_cameras\n",
    "from ballsbot.servos import get_controls\n",
    "from ballsbot.utils import keep_rps\n",
    "from ballsbot.lidar import calibration_to_xywh\n",
    "from ballsbot.lidar_with_memory import LidarWithMemory\n",
    "from ballsbot.utils import run_as_thread\n",
    "from ballsbot.tracking import Tracker\n",
    "from ballsbot.controller import link_controller\n",
    "from ballsbot.joystick import JoystickWrapper\n",
    "from ballsbot_localization import ballsbot_localization as grid\n",
    "from ballsbot.drawing import BotPoseAbsCoordsDrawing\n",
    "from ballsbot.dashboard import Dashboard\n",
    "from ballsbot.ros_messages import get_ros_messages"
   ]
  },
  {
   "cell_type": "code",
   "execution_count": 2,
   "metadata": {},
   "outputs": [
    {
     "name": "stderr",
     "output_type": "stream",
     "text": [
      "WARNING: cannot load logging configuration file, logging is disabled\n"
     ]
    }
   ],
   "source": [
    "get_ros_messages().start(sync=False)"
   ]
  },
  {
   "cell_type": "code",
   "execution_count": 3,
   "metadata": {},
   "outputs": [],
   "source": [
    "lidar = LidarWithMemory()\n",
    "tracker = Tracker(lidar)\n",
    "tracker.start()"
   ]
  },
  {
   "cell_type": "code",
   "execution_count": 4,
   "metadata": {},
   "outputs": [
    {
     "data": {
      "application/vnd.jupyter.widget-view+json": {
       "model_id": "a23fdee53bf847328c29af5d46f32e47",
       "version_major": 2,
       "version_minor": 0
      },
      "text/plain": [
       "Controller()"
      ]
     },
     "metadata": {},
     "output_type": "display_data"
    },
    {
     "data": {
      "application/vnd.jupyter.widget-view+json": {
       "model_id": "e5d7db3e10434a98848d8bf3506cc6ee",
       "version_major": 2,
       "version_minor": 0
      },
      "text/plain": [
       "HBox(children=(Image(value=b'\\xff\\xd8\\xff\\xe0\\x00\\x10JFIF\\x00\\x01\\x01\\x00\\x00\\x01\\x00\\x01\\x00\\x00\\xff\\xdb\\x00C…"
      ]
     },
     "metadata": {},
     "output_type": "display_data"
    },
    {
     "data": {
      "application/vnd.jupyter.widget-view+json": {
       "model_id": "c4f54173e122464696964698a78c2a1d",
       "version_major": 2,
       "version_minor": 0
      },
      "text/plain": [
       "Image(value=b'', format='jpeg', height='640', width='640')"
      ]
     },
     "metadata": {},
     "output_type": "display_data"
    }
   ],
   "source": [
    "controller = widgets.Controller(index=0)  # http://html5gamepad.com\n",
    "display(controller)\n",
    "\n",
    "images = []\n",
    "for image, camera in get_images_and_cameras():\n",
    "    images.append(image)\n",
    "hbox = widgets.HBox(images)\n",
    "display(hbox)\n",
    "\n",
    "dashboard = Dashboard(widgets)\n",
    "\n",
    "lidar_drawing_raw = BotPoseAbsCoordsDrawing(dashboard, 'lidar')\n",
    "dashboard.add_subplot('lidar', lidar_drawing_raw.get_drawing_func_name())\n",
    "\n",
    "display(dashboard.get_image())"
   ]
  },
  {
   "cell_type": "code",
   "execution_count": 5,
   "metadata": {},
   "outputs": [],
   "source": [
    "link_controller(JoystickWrapper(controller))"
   ]
  },
  {
   "cell_type": "code",
   "execution_count": 6,
   "metadata": {},
   "outputs": [],
   "source": [
    "def update_images():\n",
    "    ts = None\n",
    "    while True:\n",
    "        ts = keep_rps(ts, fps=1)\n",
    "\n",
    "        params = tracker.get_picture_params(with_free_tiles=True)\n",
    "        if params:\n",
    "            lidar_drawing_raw.update_image(*params, only_nearby_meters=6.)\n",
    "            dashboard.redraw()\n",
    "\n",
    "run_as_thread(update_images)"
   ]
  },
  {
   "cell_type": "code",
   "execution_count": 8,
   "metadata": {},
   "outputs": [],
   "source": [
    "# from ballsbot.utils import join_all_threads\n",
    "# join_all_threads()"
   ]
  }
 ],
 "metadata": {
  "kernelspec": {
   "display_name": "Python 3",
   "language": "python",
   "name": "python3"
  },
  "language_info": {
   "codemirror_mode": {
    "name": "ipython",
    "version": 3
   },
   "file_extension": ".py",
   "mimetype": "text/x-python",
   "name": "python",
   "nbconvert_exporter": "python",
   "pygments_lexer": "ipython3",
   "version": "3.6.9"
  }
 },
 "nbformat": 4,
 "nbformat_minor": 4
}
