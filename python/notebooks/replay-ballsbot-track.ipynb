{
 "cells": [
  {
   "cell_type": "code",
   "execution_count": null,
   "metadata": {},
   "outputs": [],
   "source": [
    "import json\n",
    "import sys\n",
    "sys.path.append('/home/jumper/projects/ballsbot/python/lib')"
   ]
  },
  {
   "cell_type": "code",
   "execution_count": null,
   "metadata": {},
   "outputs": [],
   "source": [
    "with open('track_info_01.json', 'r') as hf:\n",
    "    track = json.loads(hf.read())"
   ]
  },
  {
   "cell_type": "code",
   "execution_count": null,
   "metadata": {},
   "outputs": [],
   "source": [
    "import ipywidgets.widgets as widgets\n",
    "\n",
    "lidar_image = widgets.Image(format='jpeg', width=1200, height=1200)\n",
    "display(lidar_image)"
   ]
  },
  {
   "cell_type": "code",
   "execution_count": null,
   "metadata": {
    "scrolled": false
   },
   "outputs": [],
   "source": [
    "from IPython.display import clear_output\n",
    "\n",
    "from ballsbot.lidar import Lidar, apply_transformation_to_cloud\n",
    "import ballsbot.drawing as drawing\n",
    "\n",
    "lidar = Lidar()\n",
    "only_nearby_meters = 6\n",
    "\n",
    "for frame_index in range(370):\n",
    "    track_frame = track[frame_index]\n",
    "\n",
    "    prev_poses = [track[i]['state']['pose'] for i in range(frame_index)]\n",
    "    pose = track_frame['state']['pose']\n",
    "    points = lidar.radial_points_to_cartesian(track_frame['in']['points'])\n",
    "    points = apply_transformation_to_cloud(\n",
    "        points,\n",
    "        [pose['x'], pose['y'], pose['teta']]\n",
    "    )\n",
    "    self_position = lidar.calibration_to_xywh(lidar.calibration)\n",
    "    drawing.update_image_abs_coords(lidar_image, prev_poses, points, self_position, only_nearby_meters)\n",
    "    \n",
    "    clear_output(wait=True)\n",
    "    print(frame_index)\n",
    "    print(json.dumps(\n",
    "        track_frame['state'], indent=4))\n",
    "    print(json.dumps(\n",
    "        {k:track_frame['in'].get(k) for k in ('weights', 'detected_object', 'distances')}, indent=4))\n",
    "    print(json.dumps(\n",
    "        track_frame['out'], indent=4))\n",
    "    print('')"
   ]
  }
 ],
 "metadata": {
  "kernelspec": {
   "display_name": "Python 3",
   "language": "python",
   "name": "python3"
  },
  "language_info": {
   "codemirror_mode": {
    "name": "ipython",
    "version": 3
   },
   "file_extension": ".py",
   "mimetype": "text/x-python",
   "name": "python",
   "nbconvert_exporter": "python",
   "pygments_lexer": "ipython3",
   "version": "3.8.5"
  }
 },
 "nbformat": 4,
 "nbformat_minor": 4
}
