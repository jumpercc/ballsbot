{
 "cells": [
  {
   "cell_type": "code",
   "execution_count": null,
   "metadata": {},
   "outputs": [],
   "source": [
    "import json\n",
    "from IPython.display import clear_output, HTML, display\n",
    "import ipywidgets.widgets as widgets\n",
    "# from tqdm.notebook import tqdm\n",
    "\n",
    "import sys\n",
    "sys.path.append('/home/ballsbot/projects/ballsbot/python/lib')\n",
    "\n",
    "import ballsbot.config as config\n",
    "config.ENABLE_MULTIPROCESSING = False"
   ]
  },
  {
   "cell_type": "code",
   "execution_count": null,
   "metadata": {},
   "outputs": [],
   "source": [
    "import ballsbot.drawing as drawing\n",
    "from ballsbot.lidar import calibration_to_xywh\n",
    "from ballsbot.drawing import BotPoseAbsCoordsDrawing\n",
    "from ballsbot.utils import keep_rps\n",
    "from ballsbot.lidar import revert_transformation_to_cloud\n",
    "from ballsbot.dashboard import Dashboard"
   ]
  },
  {
   "cell_type": "code",
   "execution_count": null,
   "metadata": {},
   "outputs": [],
   "source": [
    "only_nearby_meters = 4"
   ]
  },
  {
   "cell_type": "code",
   "execution_count": null,
   "metadata": {},
   "outputs": [],
   "source": [
    "new_format = True\n",
    "with open('/home/ballsbot/projects/ballsbot/data/track-2024-07-11.json', 'r') as hf:\n",
    "    if new_format:\n",
    "        track = []\n",
    "        for line in hf:\n",
    "            try:\n",
    "                frame = json.loads(line)\n",
    "                track.append(frame)\n",
    "            except Exception as e:\n",
    "                print(f'broken frame {e}')\n",
    "    else:\n",
    "        track = json.loads(hf.read())"
   ]
  },
  {
   "cell_type": "code",
   "execution_count": null,
   "metadata": {},
   "outputs": [],
   "source": [
    "calibration = {\n",
    "    'angle_fix': 3.0810609316737434,  # lidar orientation (radians)\n",
    "    'fl_x': 0.2041686441507201,  # front left corner coords\n",
    "    'fl_y': 0.10426277741236079,\n",
    "    'rr_x': -0.08011094659163859,  # rear right corner coords\n",
    "    'rr_y': -0.0988675829003773,\n",
    "}\n",
    "self_position = calibration_to_xywh(calibration)\n",
    "\n",
    "\n",
    "dashboard = Dashboard(widgets, image_size=800)\n",
    "\n",
    "augmented_painter = BotPoseAbsCoordsDrawing(dashboard, 'augmented')\n",
    "dashboard.add_subplot('augmented', augmented_painter.get_drawing_func_name())\n",
    "sparse_painter = BotPoseAbsCoordsDrawing(dashboard, 'sparse')\n",
    "dashboard.add_subplot('sparse', sparse_painter.get_drawing_func_name())\n",
    "\n",
    "display(dashboard.get_image())"
   ]
  },
  {
   "cell_type": "code",
   "execution_count": null,
   "metadata": {
    "scrolled": true
   },
   "outputs": [],
   "source": [
    "ts = None\n",
    "for frame_index, track_frame in enumerate(track):\n",
    "# for frame_index, track_frame in enumerate(tqdm(track)):\n",
    "    if not track_frame['tracker']['current_pose']:\n",
    "        continue\n",
    "    ts = keep_rps(ts, fps=1)\n",
    "    pose = {'ts': track_frame['tracker']['current_pose']['ts'], 'x': 0., 'y': 0., 'teta': 0.}\n",
    "\n",
    "    image_text = json.dumps(track_frame['direction'], sort_keys=True)\n",
    "    if track_frame['lidar']['augmented_points']:\n",
    "        augmented_painter.update_image(\n",
    "            [pose],\n",
    "            track_frame['lidar']['augmented_points'],\n",
    "            self_position,\n",
    "            image_text=image_text,\n",
    "            only_nearby_meters=only_nearby_meters\n",
    "        )\n",
    "    if track_frame['lidar']['sparse_points']:\n",
    "        if track_frame['tracker']['free_tile_centers']:\n",
    "            cells = [track_frame['tracker']['target_point']] + track_frame['tracker']['free_tile_centers']\n",
    "            transformation = (track_frame['tracker']['current_pose']['x'], track_frame['tracker']['current_pose']['y'], track_frame['tracker']['current_pose']['teta'])\n",
    "            transformed_cells = revert_transformation_to_cloud(cells, transformation)\n",
    "            free_cells = transformed_cells[1:]\n",
    "            target_point = transformed_cells[0]\n",
    "        else:\n",
    "            free_cells = None\n",
    "            target_point = None\n",
    "        \n",
    "        sparse_painter.update_image(\n",
    "            [pose],\n",
    "            track_frame['lidar']['sparse_points'],\n",
    "            self_position,\n",
    "            free_cells=free_cells,\n",
    "            target_point=target_point,\n",
    "            image_text=image_text,\n",
    "            only_nearby_meters=only_nearby_meters\n",
    "        )\n",
    "        \n",
    "    dashboard.redraw()\n",
    "\n",
    "    clear_output(wait=True)\n",
    "    print(frame_index)\n",
    "    print(json.dumps(track_frame['directions_weights'], indent=4, sort_keys=True))"
   ]
  }
 ],
 "metadata": {
  "kernelspec": {
   "display_name": "Python 3",
   "language": "python",
   "name": "python3"
  },
  "language_info": {
   "codemirror_mode": {
    "name": "ipython",
    "version": 3
   },
   "file_extension": ".py",
   "mimetype": "text/x-python",
   "name": "python",
   "nbconvert_exporter": "python",
   "pygments_lexer": "ipython3",
   "version": "3.6.9"
  }
 },
 "nbformat": 4,
 "nbformat_minor": 4
}
