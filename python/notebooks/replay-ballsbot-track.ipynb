{
 "cells": [
  {
   "cell_type": "code",
   "execution_count": null,
   "metadata": {},
   "outputs": [],
   "source": [
    "import json\n",
    "from IPython.display import clear_output, HTML, display\n",
    "import ipywidgets.widgets as widgets\n",
    "from tqdm.notebook import tqdm\n",
    "\n",
    "import sys\n",
    "sys.path.append('/home/jumper/projects/ballsbot/python/lib')\n",
    "\n",
    "import ballsbot.config as config\n",
    "config.ENABLE_MULTIPROCESSING = False"
   ]
  },
  {
   "cell_type": "code",
   "execution_count": null,
   "metadata": {},
   "outputs": [],
   "source": [
    "import ballsbot.drawing as drawing\n",
    "from ballsbot.lidar import calibration_to_xywh\n",
    "from ballsbot.drawing import BotPoseDrawing\n",
    "from ballsbot.utils import keep_rps\n",
    "from ballsbot.lidar import revert_transformation_to_cloud"
   ]
  },
  {
   "cell_type": "code",
   "execution_count": null,
   "metadata": {},
   "outputs": [],
   "source": [
    "only_nearby_meters = 4\n",
    "\n",
    "augmented_image = widgets.Image(format='jpeg', width=1000, height=1000)\n",
    "sparse_image = widgets.Image(format='jpeg', width=1000, height=1000)\n",
    "display(widgets.HBox([augmented_image, sparse_image]))"
   ]
  },
  {
   "cell_type": "code",
   "execution_count": null,
   "metadata": {},
   "outputs": [],
   "source": [
    "new_format = True\n",
    "with open('track_1-16-0_02.json', 'r') as hf:\n",
    "    if new_format:\n",
    "        track = []\n",
    "        for line in hf:\n",
    "            try:\n",
    "                frame = json.loads(line)\n",
    "                track.append(frame)\n",
    "            except Exception as e:\n",
    "                print(f'broken frame {e}')\n",
    "    else:\n",
    "        track = json.loads(hf.read())"
   ]
  },
  {
   "cell_type": "code",
   "execution_count": null,
   "metadata": {},
   "outputs": [],
   "source": [
    "calibration = {\n",
    "    'angle_fix': 3.0660432755299887,\n",
    "    'fl_x': 0.3443406823910605,\n",
    "    'fl_y': 0.15713610488972193,\n",
    "    'rr_x': -0.07267960972661196,\n",
    "    'rr_y': -0.15285037016562764,\n",
    "}\n",
    "self_position = calibration_to_xywh(calibration)\n",
    "augmented_painter = BotPoseDrawing(augmented_image)\n",
    "sparse_painter = BotPoseDrawing(sparse_image)"
   ]
  },
  {
   "cell_type": "code",
   "execution_count": null,
   "metadata": {
    "scrolled": false
   },
   "outputs": [],
   "source": [
    "# ts = None\n",
    "# for frame_index, track_frame in enumerate(tqdm(track)):\n",
    "#     if not track_frame['tracker']['current_pose']:\n",
    "#         continue\n",
    "#     ts = keep_rps(ts, fps=1)\n",
    "#     pose = {'ts': track_frame['tracker']['current_pose']['ts'], 'x': 0., 'y': 0., 'teta': 0.}\n",
    "\n",
    "#     image_text = json.dumps(track_frame['direction'], sort_keys=True)\n",
    "#     if track_frame['lidar']['augmented_points']:\n",
    "#         augmented_painter.update_image(\n",
    "#             [pose],\n",
    "#             track_frame['lidar']['augmented_points'],\n",
    "#             self_position,\n",
    "#             image_text=image_text,\n",
    "#             only_nearby_meters=only_nearby_meters\n",
    "#         )\n",
    "#     if track_frame['lidar']['sparse_points']:\n",
    "#         if track_frame['tracker']['free_tile_centers']:\n",
    "#             cells = [track_frame['tracker']['target_point']] + track_frame['tracker']['free_tile_centers']\n",
    "#             transformation = (track_frame['tracker']['current_pose']['x'], track_frame['tracker']['current_pose']['y'], track_frame['tracker']['current_pose']['teta'])\n",
    "#             transformed_cells = revert_transformation_to_cloud(cells, transformation)\n",
    "#             free_cells = transformed_cells[1:]\n",
    "#             target_point = transformed_cells[0]\n",
    "#         else:\n",
    "#             free_cells = None\n",
    "#             target_point = None\n",
    "        \n",
    "#         sparse_painter.update_image(\n",
    "#             [pose],\n",
    "#             track_frame['lidar']['sparse_points'],\n",
    "#             self_position,\n",
    "#             free_cells=free_cells,\n",
    "#             target_point=target_point,\n",
    "#             image_text=image_text,\n",
    "#             only_nearby_meters=only_nearby_meters\n",
    "#         )\n",
    "\n",
    "#     clear_output(wait=True)\n",
    "#     print(frame_index)\n",
    "#     print(json.dumps(track_frame['directions_weights'], indent=4, sort_keys=True))\n",
    "# #     if frame_index> 60 and track_frame['directions_weights'] and track_frame['directions_weights']['(0.0,-1.0)'] == 0.:\n",
    "# #         break"
   ]
  },
  {
   "cell_type": "code",
   "execution_count": null,
   "metadata": {},
   "outputs": [],
   "source": [
    "# for it in track[81]['lidar']['sparse_points']:\n",
    "#     print(f'{{{it[0]}, {it[1]}}},')"
   ]
  },
  {
   "cell_type": "code",
   "execution_count": null,
   "metadata": {},
   "outputs": [],
   "source": [
    "# track[81]['lidar']['grid_pose']"
   ]
  },
  {
   "cell_type": "code",
   "execution_count": null,
   "metadata": {},
   "outputs": [],
   "source": [
    "def subtract(ts1, ts2):\n",
    "    if ts1 is None:\n",
    "        return None\n",
    "    else:\n",
    "        return ts1 - ts2\n",
    "\n",
    "lines = {\n",
    "    'index': [],\n",
    "    'odometry': [],\n",
    "    'imu': [],\n",
    "    'pose': [],\n",
    "    'lidar': [],\n",
    "    'sparse_lidar': [],\n",
    "    \"ls-front-center\": [],\n",
    "    \"ls-front-left\": [],\n",
    "    \"ls-front-right\": [],\n",
    "    \"ls-rear-center\": [],\n",
    "    \"ls-rear-left\": [],\n",
    "    \"ls-rear-right\": [],\n",
    "}\n",
    "for frame_index, track_frame in enumerate(tqdm(track)):\n",
    "    real_time = track_frame['ts']\n",
    "    if real_time is None:\n",
    "        continue\n",
    "    lines['index'].append(frame_index)\n",
    "    lines['odometry'].append(subtract((track_frame['tracker']['current_pose'] or {}).get('odometry_ts'), real_time))\n",
    "    lines['imu'].append(subtract((track_frame['tracker']['current_pose'] or {}).get('imu_ts'), real_time))\n",
    "    lines['pose'].append(subtract((track_frame['tracker']['current_pose'] or {}).get('self_ts'), real_time))\n",
    "    lines['lidar'].append(subtract(track_frame['lidar'].get('points_ts'), real_time))\n",
    "    lines['sparse_lidar'].append(subtract(track_frame['lidar'].get('update_grid_ts'), real_time))\n",
    "    for ls_name in ('front-center', 'front-left', 'front-right', 'rear-center', 'rear-left', 'rear-right'):\n",
    "        lines[\"ls-\"+ls_name].append(subtract(((track_frame['lidar']['distances'] or {}).get(ls_name) or {}).get('ts'), real_time))"
   ]
  },
  {
   "cell_type": "code",
   "execution_count": null,
   "metadata": {},
   "outputs": [],
   "source": [
    "%matplotlib notebook"
   ]
  },
  {
   "cell_type": "code",
   "execution_count": null,
   "metadata": {},
   "outputs": [],
   "source": [
    "import matplotlib.pyplot as plt\n",
    "\n",
    "plt.figure(figsize=(20, 8))\n",
    "for line_name, y_points in lines.items():\n",
    "    if line_name == 'index' or line_name.startswith('ls-'):\n",
    "        continue\n",
    "    plt.plot(lines['index'], y_points, label=line_name)\n",
    "\n",
    "plt.grid(True)\n",
    "plt.legend()\n",
    "plt.show()"
   ]
  }
 ],
 "metadata": {
  "kernelspec": {
   "display_name": "Python 3",
   "language": "python",
   "name": "python3"
  },
  "language_info": {
   "codemirror_mode": {
    "name": "ipython",
    "version": 3
   },
   "file_extension": ".py",
   "mimetype": "text/x-python",
   "name": "python",
   "nbconvert_exporter": "python",
   "pygments_lexer": "ipython3",
   "version": "3.8.10"
  }
 },
 "nbformat": 4,
 "nbformat_minor": 4
}
